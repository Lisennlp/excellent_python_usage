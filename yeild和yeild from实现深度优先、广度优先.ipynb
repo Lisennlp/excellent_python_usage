{
 "cells": [
  {
   "cell_type": "code",
   "execution_count": 36,
   "metadata": {},
   "outputs": [
    {
     "name": "stdout",
     "output_type": "stream",
     "text": [
      "==========深度优先============\n",
      "Node(0)\n",
      "Node(1)\n",
      "Node(3)\n",
      "Node(4)\n",
      "Node(2)\n",
      "Node(5)\n",
      "==========广度优先============\n",
      "Node(0)\n",
      "Node(1)\n",
      "Node(2)\n",
      "Node(3)\n",
      "Node(4)\n",
      "Node(5)\n"
     ]
    }
   ],
   "source": [
    "class Node(object):\n",
    "    def __init__(self, value):\n",
    "        self._value = value\n",
    "        self._children = []\n",
    "    def __repr__(self):\n",
    "        return 'Node({!r})'.format(self._value)\n",
    "    def add_child(self, node): \n",
    "        self._children.append(node)\n",
    "    def __iter__(self):\n",
    "        return iter(self._children)\n",
    "    \n",
    "def depth_first(node):\n",
    "    yield node\n",
    "    for c in node:\n",
    "        yield from depth_first(c)\n",
    "\n",
    "def width_first(node): \n",
    "    if not isinstance(node, list):\n",
    "        yield node\n",
    "    childrens = []\n",
    "    for n in node:\n",
    "        childrens.extend(n)\n",
    "        yield n\n",
    "    if childrens:\n",
    "        yield from width_first(childrens)\n",
    "if __name__ == '__main__': \n",
    "    root = Node(0)\n",
    "    child1 = Node(1)\n",
    "    child2 = Node(2)\n",
    "    root.add_child(child1)\n",
    "    root.add_child(child2)\n",
    "    child1.add_child(Node(3))\n",
    "    child1.add_child(Node(4))\n",
    "    child2.add_child(Node(5))\n",
    "    print(f'==========深度优先============')\n",
    "    for ch in depth_first(root):\n",
    "        print(ch)\n",
    "    print(f'==========广度优先============')\n",
    "    for ch in width_first(root):\n",
    "        print(ch)"
   ]
  },
  {
   "cell_type": "code",
   "execution_count": null,
   "metadata": {},
   "outputs": [],
   "source": []
  },
  {
   "cell_type": "code",
   "execution_count": null,
   "metadata": {},
   "outputs": [],
   "source": []
  }
 ],
 "metadata": {
  "kernelspec": {
   "display_name": "Python 3",
   "language": "python",
   "name": "python3"
  },
  "language_info": {
   "codemirror_mode": {
    "name": "ipython",
    "version": 3
   },
   "file_extension": ".py",
   "mimetype": "text/x-python",
   "name": "python",
   "nbconvert_exporter": "python",
   "pygments_lexer": "ipython3",
   "version": "3.6.9"
  }
 },
 "nbformat": 4,
 "nbformat_minor": 2
}
