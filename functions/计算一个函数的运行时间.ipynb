{
 "cells": [
  {
   "cell_type": "code",
   "execution_count": 31,
   "metadata": {},
   "outputs": [
    {
     "name": "stdout",
     "output_type": "stream",
     "text": [
      "counting : 0.9669542709598318\n"
     ]
    }
   ],
   "source": [
    "import time\n",
    "from contextlib import contextmanager\n",
    "@contextmanager\n",
    "def timeblock(label):\n",
    "    start = time.perf_counter() \n",
    "    try:\n",
    "        yield \n",
    "    finally:\n",
    "        end = time.perf_counter()\n",
    "        print('{} : {}'.format(label, end - start))\n",
    "\n",
    "n = 10000000\n",
    "with timeblock('counting'):\n",
    "    \n",
    "    while n > 0:\n",
    "        n -= 1\n"
   ]
  },
  {
   "cell_type": "markdown",
   "metadata": {},
   "source": [
    "## time.process_time()不准确，用time.perf_counter()准确"
   ]
  },
  {
   "cell_type": "code",
   "execution_count": 39,
   "metadata": {},
   "outputs": [
    {
     "name": "stdout",
     "output_type": "stream",
     "text": [
      "__main__.func_test : 0.6605370900360867\n"
     ]
    }
   ],
   "source": [
    "import time\n",
    "from functools import wraps\n",
    "def timethis(func): \n",
    "    @wraps(func)\n",
    "    def wrapper(*args, **kwargs):\n",
    "        start = time.perf_counter()\n",
    "        r = func(*args, **kwargs)\n",
    "        end = time.perf_counter()\n",
    "        print('{}.{} : {}'.format(func.__module__, func.__name__, end - start)) \n",
    "        return r\n",
    "    return wrapper\n",
    "\n",
    "@timethis\n",
    "def func_test(n):\n",
    "    while n > 0:\n",
    "        n -= 1\n",
    "#         if n % 1000 == 0:\n",
    "#             print(f'n = {n}')\n",
    "    \n",
    "func_test(10000000)"
   ]
  },
  {
   "cell_type": "markdown",
   "metadata": {},
   "source": [
    "####  当执行性能测试的时候，需要注意的是你获取的结果都是近似值。time. perf_counter() 函数会在给定平台上获取最高精度的计时值。不过，它仍然还是 基于时钟时间，很多因素会影响到它的精确度，比如机器负载。如果你对于执行时间更 感兴趣，使用 time.process_time() 来代替它。"
   ]
  },
  {
   "cell_type": "code",
   "execution_count": 1,
   "metadata": {},
   "outputs": [
    {
     "name": "stdout",
     "output_type": "stream",
     "text": [
      "(10000000,)\n",
      "__main__.func_test : 0.617113\n"
     ]
    }
   ],
   "source": [
    "import time\n",
    "from functools import wraps\n",
    "def timethis(func): \n",
    "    @wraps(func)\n",
    "    def wrapper(*args, **kwargs):\n",
    "        print(args)\n",
    "        start = time.process_time()\n",
    "        r = func(*args, **kwargs)\n",
    "        end = time.process_time()\n",
    "        print('{}.{} : {}'.format(func.__module__, func.__name__, end - start)) \n",
    "        return r\n",
    "    return wrapper\n",
    "\n",
    "@timethis\n",
    "def func_test(n):\n",
    "    while n > 0:\n",
    "        n -= 1\n",
    "#         if n % 1000 == 0:\n",
    "#             print(f'n = {n}')\n",
    "    \n",
    "func_test(10000000)"
   ]
  },
  {
   "cell_type": "code",
   "execution_count": null,
   "metadata": {},
   "outputs": [],
   "source": []
  },
  {
   "cell_type": "code",
   "execution_count": null,
   "metadata": {},
   "outputs": [],
   "source": []
  },
  {
   "cell_type": "markdown",
   "metadata": {},
   "source": [
    "#### 无参数的timeit模块"
   ]
  },
  {
   "cell_type": "code",
   "execution_count": 2,
   "metadata": {},
   "outputs": [
    {
     "name": "stdout",
     "output_type": "stream",
     "text": [
      "0.09312897099880502 0.05607891600811854\n"
     ]
    }
   ],
   "source": [
    "from timeit import timeit\n",
    "t1 = timeit('math.sqrt(2)', 'import math')\n",
    "t2 = timeit('sqrt(2)', 'from math import sqrt')\n",
    "print(t1, t2)"
   ]
  },
  {
   "cell_type": "code",
   "execution_count": null,
   "metadata": {},
   "outputs": [],
   "source": []
  },
  {
   "cell_type": "markdown",
   "metadata": {},
   "source": [
    "#### 添加参数"
   ]
  },
  {
   "cell_type": "code",
   "execution_count": 3,
   "metadata": {},
   "outputs": [
    {
     "name": "stdout",
     "output_type": "stream",
     "text": [
      "0.906573714048136 0.5834615289932117\n"
     ]
    }
   ],
   "source": [
    "t1 = timeit('math.sqrt(2)', 'import math', number=10000000)\n",
    "\n",
    "t2 = timeit('sqrt(2)', 'from math import sqrt', number=10000000)\n",
    "\n",
    "print(t1, t2)"
   ]
  },
  {
   "cell_type": "code",
   "execution_count": null,
   "metadata": {},
   "outputs": [],
   "source": []
  }
 ],
 "metadata": {
  "kernelspec": {
   "display_name": "Python 3",
   "language": "python",
   "name": "python3"
  },
  "language_info": {
   "codemirror_mode": {
    "name": "ipython",
    "version": 3
   },
   "file_extension": ".py",
   "mimetype": "text/x-python",
   "name": "python",
   "nbconvert_exporter": "python",
   "pygments_lexer": "ipython3",
   "version": "3.6.9"
  }
 },
 "nbformat": 4,
 "nbformat_minor": 2
}
