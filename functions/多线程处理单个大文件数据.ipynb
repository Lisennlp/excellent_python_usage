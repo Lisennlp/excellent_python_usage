{
 "cells": [
  {
   "cell_type": "code",
   "execution_count": 11,
   "metadata": {},
   "outputs": [],
   "source": [
    "import os\n",
    "from multiprocessing import Pool\n",
    "\n",
    "\n",
    "def safe_readline(f):\n",
    "    pos = f.tell()\n",
    "    while True:\n",
    "        try:\n",
    "            return f.readline()\n",
    "        except UnicodeDecodeError:\n",
    "            pos -= 1\n",
    "            f.seek(pos)\n",
    "            \n",
    "            \n",
    "def async_kd_tokenizer(filename, worker_id, num_workers):\n",
    "    with open(filename, 'r') as f:\n",
    "        size = os.fstat(f.fileno()).st_size\n",
    "        print(f'size {size}')\n",
    "        chunk_size = size // num_workers\n",
    "        offset = worker_id * chunk_size\n",
    "        end = offset + chunk_size\n",
    "        f.seek(offset)\n",
    "        print(f'offset {offset}')\n",
    "        if offset > 0:\n",
    "            safe_readline(f)    # drop first incomplete line\n",
    "        lines = []\n",
    "        line = f.readline()\n",
    "        i = 0\n",
    "        while line:\n",
    "            line = line.replace(\" \", '').replace(\"\\n\", '')\n",
    "            if not line:\n",
    "                line = f.readline()\n",
    "                continue\n",
    "            lines.append(line)\n",
    "            if f.tell() > end:\n",
    "                break\n",
    "            line = f.readline()\n",
    "            i += 1\n",
    "        return lines\n",
    "    \n",
    "    \n",
    "def encode_file(path, workers=4):\n",
    "    assert os.path.exists(path)\n",
    "    results = []\n",
    "    workers_thread = []\n",
    "    pool = Pool(processes=workers)\n",
    "    for i in range(workers):\n",
    "        w = pool.apply_async(\n",
    "            async_kd_tokenizer,\n",
    "            (path, i, workers),\n",
    "        )\n",
    "        workers_thread.append(w)\n",
    "    pool.close()\n",
    "    pool.join()\n",
    "\n",
    "    for w in workers_thread:\n",
    "        result = w.get()    # lsp\n",
    "        results += result\n",
    "        \n",
    "    return results\n",
    "\n",
    "results = encode_file('/Users/lisen/Downloads/如果蜗牛有爱情.txt')\n",
    "# results = encode_file('/Users/lisen/Downloads/5236.txt')\n",
    "\n",
    "with open('如果蜗牛有爱情result.txt', 'w', encoding='utf-8') as fw:\n",
    "    for line in results:\n",
    "        fw.write(line)"
   ]
  },
  {
   "cell_type": "code",
   "execution_count": 12,
   "metadata": {},
   "outputs": [
    {
     "name": "stdout",
     "output_type": "stream",
     "text": [
      "size 959560\n",
      "size 959560\n",
      "size 959560\n",
      "size 959560\n",
      "offset 239890\n",
      "offset 0\n",
      "offset 719670\n",
      "offset 479780\n"
     ]
    },
    {
     "data": {
      "text/plain": [
       "7243"
      ]
     },
     "execution_count": 12,
     "metadata": {},
     "output_type": "execute_result"
    }
   ],
   "source": []
  },
  {
   "cell_type": "code",
   "execution_count": null,
   "metadata": {},
   "outputs": [],
   "source": []
  }
 ],
 "metadata": {
  "kernelspec": {
   "display_name": "Python 3.6.9 64-bit ('python36': conda)",
   "language": "python",
   "name": "python36964bitpython36condafd83865620ca4220993ff7d88daf9be5"
  },
  "language_info": {
   "codemirror_mode": {
    "name": "ipython",
    "version": 3
   },
   "file_extension": ".py",
   "mimetype": "text/x-python",
   "name": "python",
   "nbconvert_exporter": "python",
   "pygments_lexer": "ipython3",
   "version": "3.6.9"
  }
 },
 "nbformat": 4,
 "nbformat_minor": 2
}
