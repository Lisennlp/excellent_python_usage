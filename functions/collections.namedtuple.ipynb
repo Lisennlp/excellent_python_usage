{
 "cells": [
  {
   "cell_type": "code",
   "execution_count": 2,
   "metadata": {},
   "outputs": [
    {
     "name": "stdout",
     "output_type": "stream",
     "text": [
      "bingyang\n",
      "123456\n"
     ]
    }
   ],
   "source": [
    "from collections import namedtuple\n",
    "Account = namedtuple(\"Account\", [\"name\",\"pwd\"]) \n",
    "\n",
    "account = Account(\"bingyang\", \"123456\")  \n",
    "print(account.name)\n",
    "print(account.pwd)\n"
   ]
  },
  {
   "cell_type": "code",
   "execution_count": 3,
   "metadata": {},
   "outputs": [
    {
     "name": "stdout",
     "output_type": "stream",
     "text": [
      "Account(name=('bingyang', '123456'), pwd=('bingyang_res', '123456'))\n"
     ]
    }
   ],
   "source": [
    "account = Account(*[(\"bingyang\", \"123456\"), (\"bingyang_res\", \"123456\")])  \n",
    "print(account)\n",
    "# print(account.pwd)"
   ]
  },
  {
   "cell_type": "code",
   "execution_count": 4,
   "metadata": {},
   "outputs": [
    {
     "name": "stdout",
     "output_type": "stream",
     "text": [
      "bingyang\n",
      "123456\n"
     ]
    }
   ],
   "source": [
    "Account = namedtuple(\"Account\", \"name pwd\") \n",
    "account = Account(\"bingyang\", \"123456\")  \n",
    "print(account.name)\n",
    "print(account.pwd)"
   ]
  },
  {
   "cell_type": "code",
   "execution_count": 6,
   "metadata": {},
   "outputs": [
    {
     "data": {
      "text/plain": [
       "('name', 'pwd')"
      ]
     },
     "execution_count": 6,
     "metadata": {},
     "output_type": "execute_result"
    }
   ],
   "source": [
    "account._fields  # 类方法._fields"
   ]
  },
  {
   "cell_type": "code",
   "execution_count": 8,
   "metadata": {},
   "outputs": [
    {
     "data": {
      "text/plain": [
       "OrderedDict([('name', 'bingyang'), ('pwd', '123456')])"
      ]
     },
     "execution_count": 8,
     "metadata": {},
     "output_type": "execute_result"
    }
   ],
   "source": [
    "account._asdict()  # 实例方法._asdict("
   ]
  },
  {
   "cell_type": "markdown",
   "metadata": {},
   "source": [
    "参考https://www.cnblogs.com/jiangbingyang/p/7455853.html"
   ]
  },
  {
   "cell_type": "code",
   "execution_count": null,
   "metadata": {},
   "outputs": [],
   "source": []
  }
 ],
 "metadata": {
  "kernelspec": {
   "display_name": "Python 3",
   "language": "python",
   "name": "python3"
  },
  "language_info": {
   "codemirror_mode": {
    "name": "ipython",
    "version": 3
   },
   "file_extension": ".py",
   "mimetype": "text/x-python",
   "name": "python",
   "nbconvert_exporter": "python",
   "pygments_lexer": "ipython3",
   "version": "3.6.9"
  }
 },
 "nbformat": 4,
 "nbformat_minor": 2
}
