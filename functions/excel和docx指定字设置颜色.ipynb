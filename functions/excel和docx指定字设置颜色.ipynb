{
 "cells": [
  {
   "cell_type": "code",
   "execution_count": 8,
   "metadata": {},
   "outputs": [
    {
     "name": "stdout",
     "output_type": "stream",
     "text": [
      "['我爱', <xlsxwriter.format.Format object at 0x10d441c88>, '中国', '天安门']\n"
     ]
    }
   ],
   "source": [
    "from xlsxwriter.workbook import Workbook\n",
    "\n",
    "workbook = Workbook(r'test.xlsx')  # 创建xlsx\n",
    "\n",
    "worksheet = workbook.add_worksheet('A')  # 添加sheet\n",
    "\n",
    "red = workbook.add_format({'color':'red'})  # 颜色对象\n",
    "\n",
    "worksheet.write(0, 0, 'sentences')  # 0，0表示row，column，sentences表示要写入的字符串\n",
    "\n",
    "test_list = [\"我爱\", \"中国\", \"天安门\"]\n",
    "\n",
    "test_list.insert(1, red)  # 将颜色对象放入需要设置颜色的词语前面\n",
    "print(test_list)\n",
    "worksheet.write_rich_string(1, 0, *test_list)  # 写入工作簿\n",
    "workbook.close() # 记得关闭"
   ]
  },
  {
   "cell_type": "code",
   "execution_count": 4,
   "metadata": {},
   "outputs": [],
   "source": [
    "\n",
    "# 参考：https://www.jianshu.com/p/94ac13f6633e\n",
    "\n",
    "from docx import Document  # pip install python-docx\n",
    "from docx.shared import RGBColor, Pt\n",
    "from docx.oxml.ns import qn\n",
    "\n",
    "\n",
    "content = [\"我爱\", \"中国\",\" 北京\"]\n",
    "print(content)\n",
    "\n",
    "# 创建文档对象\n",
    "document = Document()\n",
    "\n",
    "# 创建段落对象，注意，里面的内容会显示在段落开头\n",
    "para = document.add_paragraph('段落0\\n')\n",
    "\n",
    "# 往para段落对象中添加正文内容\n",
    "para.add_run(content[0])\n",
    "\n",
    "# 往para对象添加内容的同时返回内容对象run，之后可以通过这个run对象给这个部分的文字设置样式，比如颜色，大小，字体等\n",
    "run = para.add_run(content[1])\n",
    "\n",
    "# 给run对象设置字体颜色属性， RGBColor(250,0,0)表示红色\n",
    "run.font.color.rgb = RGBColor(250,0,0)\n",
    "\n",
    "# 给run对象设置字体大小属性\n",
    "run.font.size = Pt(20)\n",
    "\n",
    "# 给run对象设置字体类型属性\n",
    "run.font.name = u'宋体'\n",
    "run._element.rPr.rFonts.set(qn('w:eastAsia'), u'宋体')\n",
    "\n",
    "# para对象中添加其他内容\n",
    "para.add_run(content[2])\n",
    "\n",
    "# 保存\n",
    "document.save('test.docx')\n"
   ]
  },
  {
   "cell_type": "code",
   "execution_count": null,
   "metadata": {},
   "outputs": [],
   "source": []
  }
 ],
 "metadata": {
  "kernelspec": {
   "display_name": "Python 3.6.9 64-bit ('python36': conda)",
   "language": "python",
   "name": "python36964bitpython36condafd83865620ca4220993ff7d88daf9be5"
  },
  "language_info": {
   "codemirror_mode": {
    "name": "ipython",
    "version": 3
   },
   "file_extension": ".py",
   "mimetype": "text/x-python",
   "name": "python",
   "nbconvert_exporter": "python",
   "pygments_lexer": "ipython3",
   "version": "3.6.9"
  }
 },
 "nbformat": 4,
 "nbformat_minor": 2
}
