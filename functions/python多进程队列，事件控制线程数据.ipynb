{
 "cells": [
  {
   "cell_type": "code",
   "execution_count": null,
   "metadata": {},
   "outputs": [],
   "source": [
    "from queue import Queue \n",
    "from threading import Thread\n",
    "from threading import Thread, Event\n",
    "\n",
    "\n",
    "# A thread that produces data\n",
    "def producer(out_q): \n",
    "    i = 0\n",
    "    while True:\n",
    "        # Produce some data\n",
    "        i += 1\n",
    "        evt = Event()\n",
    "        out_q.put((i, evt))\n",
    "        print(f'in = {i}')\n",
    "        evt.wait()\n",
    "        \n",
    "# Wait for the consumer to process the item evt.wait()\n",
    "            \n",
    "# A thread that consumes data\n",
    "def consumer(in_q): \n",
    "    while True:\n",
    "    # Get some data\n",
    "        data, evt = in_q.get() # Process the data ...\n",
    "        print(f'out = {data}')\n",
    "        evt.set()\n",
    "\n",
    "    # Create the shared queue and launch both threads\n",
    "q = Queue()\n",
    "t1 = Thread(target=consumer, args=(q,))\n",
    "t2 = Thread(target=producer, args=(q,))\n",
    "t1.start()\n",
    "t2.start()"
   ]
  }
 ],
 "metadata": {
  "kernelspec": {
   "display_name": "Python 3.6.9 64-bit ('python36': conda)",
   "language": "python",
   "name": "python36964bitpython36condafd83865620ca4220993ff7d88daf9be5"
  },
  "language_info": {
   "codemirror_mode": {
    "name": "ipython",
    "version": 3
   },
   "file_extension": ".py",
   "mimetype": "text/x-python",
   "name": "python",
   "nbconvert_exporter": "python",
   "pygments_lexer": "ipython3",
   "version": "3.6.9"
  }
 },
 "nbformat": 4,
 "nbformat_minor": 2
}
