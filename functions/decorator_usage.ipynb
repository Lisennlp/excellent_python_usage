{
 "cells": [
  {
   "cell_type": "markdown",
   "metadata": {},
   "source": [
    "- wrap_function表示传入的函数lsp_func()一个别名一样，共享lsp_func()的传入参数，这样的话，我们可以把中间结果加入到auth这个参数中，继续传给lsp_func()\n",
    "\n",
    "- 之后，我们修改了传入参数auth，继续给function(*args, **auth)。\n",
    "\n",
    "\n"
   ]
  },
  {
   "cell_type": "code",
   "execution_count": 1,
   "metadata": {},
   "outputs": [
    {
     "name": "stdout",
     "output_type": "stream",
     "text": [
      "auth 0 = {'x': 9}\n",
      "auth 2 = {'x': 9, 'y': 10}\n"
     ]
    },
    {
     "data": {
      "text/plain": [
       "{'x': 9, 'y': 10}"
      ]
     },
     "execution_count": 1,
     "metadata": {},
     "output_type": "execute_result"
    }
   ],
   "source": [
    "\n",
    "def check_permission(user_roles):\n",
    "    def decorator(function):\n",
    "        @wraps(function)\n",
    "        def wrap_function(*args, **auth):\n",
    "            print(f'auth 0 = {auth}')\n",
    "            auth['y'] = 10\n",
    "            return function(*args, **auth)\n",
    "        return wrap_function\n",
    "    return decorator\n",
    "\n",
    "\n",
    "from functools import wraps\n",
    "\n",
    "@check_permission(['a', 'b'])\n",
    "def lsp_func(**auth):\n",
    "    print(f'auth 2 = {auth}')\n",
    "    return auth\n",
    "\n",
    "res = lsp_func(x=9)\n",
    "res"
   ]
  },
  {
   "cell_type": "code",
   "execution_count": null,
   "metadata": {},
   "outputs": [],
   "source": []
  }
 ],
 "metadata": {
  "kernelspec": {
   "display_name": "Python 3",
   "language": "python",
   "name": "python3"
  },
  "language_info": {
   "codemirror_mode": {
    "name": "ipython",
    "version": 3
   },
   "file_extension": ".py",
   "mimetype": "text/x-python",
   "name": "python",
   "nbconvert_exporter": "python",
   "pygments_lexer": "ipython3",
   "version": "3.6.9"
  }
 },
 "nbformat": 4,
 "nbformat_minor": 2
}
