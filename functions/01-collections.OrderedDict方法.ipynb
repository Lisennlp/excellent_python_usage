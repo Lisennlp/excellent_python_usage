{
 "cells": [
  {
   "cell_type": "code",
   "execution_count": 2,
   "metadata": {},
   "outputs": [
    {
     "name": "stdout",
     "output_type": "stream",
     "text": [
      "OrderedDict([('b', 5), ('c', 2), ('a', 7)])\n",
      "Python 89\n",
      "Swift 92\n",
      "Kotlin 97\n",
      "Go 87\n"
     ]
    }
   ],
   "source": [
    "from collections import OrderedDict\n",
    "# 创建OrderedDict对象\n",
    "dx = OrderedDict(b=5, c=2, a=7)\n",
    "print(dx) # OrderedDict([('b', 5), ('c', 2), ('a', 7)])\n",
    "d = OrderedDict()\n",
    "# 向OrderedDict中添加key-value对\n",
    "d['Python'] = 89\n",
    "d['Swift'] = 92\n",
    "d['Kotlin'] = 97\n",
    "d['Go'] = 87\n",
    "# 遍历OrderedDict的key-value对\n",
    "for k,v in d.items():\n",
    "    print(k, v)"
   ]
  },
  {
   "cell_type": "markdown",
   "metadata": {},
   "source": [
    "#### 要点：\n",
    "OrderedDict完全可以“记住”字典的添加顺序"
   ]
  }
 ],
 "metadata": {
  "kernelspec": {
   "display_name": "Python 3",
   "language": "python",
   "name": "python3"
  },
  "language_info": {
   "codemirror_mode": {
    "name": "ipython",
    "version": 3
   },
   "file_extension": ".py",
   "mimetype": "text/x-python",
   "name": "python",
   "nbconvert_exporter": "python",
   "pygments_lexer": "ipython3",
   "version": "3.6.9"
  }
 },
 "nbformat": 4,
 "nbformat_minor": 2
}
