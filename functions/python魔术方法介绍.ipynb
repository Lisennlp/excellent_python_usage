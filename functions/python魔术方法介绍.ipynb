{
 "cells": [
  {
   "cell_type": "markdown",
   "metadata": {},
   "source": [
    "#### \\__getattr__：\n",
    "当对象访问其属性如c.area，不存在这个属性时，调用该函数；\n",
    "\n",
    "#### \\__setattr__：\n",
    "当对象访问设置属性时(不论是否存在)如c.radius = 10，c.area =9，调用该函数；\n",
    "因为初始化的时候执行了self.radius = radius，会调用该函数\n",
    "\n",
    "#### \\__delattr__：\n",
    "当对象删除属性时(不论是否存在)如del c.radius，del c.area，调用该函数；\n",
    "\n",
    "#### \\__getitem__：\n",
    "当对象访问属性时(不论是否存在)如c['radius']，c['area']，调用该函数；\n",
    "\n",
    "#### \\__delitem__：\n",
    "当对象删除属性时(不论是否存在)如del c['radius']，del c['area']，调用该函数；\n",
    "\n",
    "\n",
    "#### \\__setitem__：\n",
    "当对象赋值属性时(不论是否存在)如 c['radius'] = 8， c['area'] = 9，调用该函数；"
   ]
  },
  {
   "cell_type": "code",
   "execution_count": 158,
   "metadata": {},
   "outputs": [
    {
     "data": {
      "text/plain": [
       "<slot wrapper '__getattribute__' of 'object' objects>"
      ]
     },
     "execution_count": 158,
     "metadata": {},
     "output_type": "execute_result"
    }
   ],
   "source": [
    "import math\n",
    "\n",
    "\n",
    "class Circle:\n",
    "    instance = None\n",
    "#     def __new__(cls, *args, **kwargs):\n",
    "#         print(f'__new__')\n",
    "#         if cls.instance is None:\n",
    "#             cls.instance = super().__new__(cls, *args, **kwargs)\n",
    "#         return  cls.instance\n",
    "    \n",
    "    def __init__(self, radius):\n",
    "        print(f'__init__')\n",
    "        self.radius = radius\n",
    "        \n",
    "    def __setitem__(self, name, value):\n",
    "        print(f'__setitem__')\n",
    "        self.__dict__[name] = value\n",
    "    \n",
    "    def __getitem__(self, name):\n",
    "        print(f'__getitem__')\n",
    "        return self.__dict__[name]\n",
    "    \n",
    "    def __delitem__(self, key):\n",
    "        print(f'__delitem__')\n",
    "\n",
    "    def __setattr__(self, name, value):\n",
    "        print(f'__setattr__')\n",
    "        self.__dict__[name] = value\n",
    "        \n",
    "    def __delattr__(self, name):\n",
    "        print(f'__delattr__')\n",
    "\n",
    "    def __getattr__(self, name):\n",
    "        print(f'__getattr__')\n",
    "    \n",
    "    def __str__(self):\n",
    "        return '__str__'\n",
    "    \n",
    "    def __repr__(self):\n",
    "        return '__repr__'\n",
    "\n",
    "    def __len__(self):\n",
    "        print(f'__len__')\n",
    "        return len(self.__dict__)\n",
    "    \n",
    "    def __iter__(self):\n",
    "        print(f'__iter__')\n",
    "        return iter(self.__dict__.values())\n",
    "    \n",
    "    def __call__(self, radius):\n",
    "        print(f'__call__')\n",
    "        return math.pi * float(radius * radius)\n",
    "    \n",
    "    def __bool__(self):\n",
    "        print(f'__bool__')\n",
    "        if self.__dict__[\"radius\"]:\n",
    "            return True\n",
    "        else:\n",
    "            return False\n",
    "        \n",
    "    # 访问成员的时候触发\n",
    "    def __getattribute__(self, name):\n",
    "        print('触发了__getattribute__(),要访问对象的{}成员'.format(name))\n",
    "        # 一定不能使用self.__getattribute__(self,attr),否则会导致递归死循环，使用object的方法访问\n",
    "        if object.__getattribute__(self,name):\n",
    "#             print(object.__getattribute__(self,name))\n",
    "            return object.__getattribute__(self,name)\n",
    "        else:\n",
    "            return self.__getattr__(name)\n",
    "     \n",
    "\n",
    "\n",
    "        \n",
    "# c = Circle(6)\n",
    "object.__getattribute__"
   ]
  },
  {
   "cell_type": "code",
   "execution_count": 127,
   "metadata": {},
   "outputs": [
    {
     "name": "stdout",
     "output_type": "stream",
     "text": [
      "__bool__\n"
     ]
    },
    {
     "data": {
      "text/plain": [
       "True"
      ]
     },
     "execution_count": 127,
     "metadata": {},
     "output_type": "execute_result"
    }
   ],
   "source": [
    "bool(c)"
   ]
  },
  {
   "cell_type": "code",
   "execution_count": 148,
   "metadata": {},
   "outputs": [
    {
     "data": {
      "text/plain": [
       "9"
      ]
     },
     "execution_count": 148,
     "metadata": {},
     "output_type": "execute_result"
    }
   ],
   "source": [
    "c.area"
   ]
  },
  {
   "cell_type": "code",
   "execution_count": 117,
   "metadata": {},
   "outputs": [
    {
     "name": "stdout",
     "output_type": "stream",
     "text": [
      "__call__\n",
      "99\n"
     ]
    }
   ],
   "source": [
    "if c(3):\n",
    "    print(f'99')"
   ]
  },
  {
   "cell_type": "code",
   "execution_count": 108,
   "metadata": {},
   "outputs": [
    {
     "name": "stdout",
     "output_type": "stream",
     "text": [
      "__delattr__\n"
     ]
    }
   ],
   "source": [
    "del c.radius"
   ]
  },
  {
   "cell_type": "code",
   "execution_count": 102,
   "metadata": {},
   "outputs": [
    {
     "name": "stdout",
     "output_type": "stream",
     "text": [
      "__getitem__\n"
     ]
    },
    {
     "data": {
      "text/plain": [
       "6"
      ]
     },
     "execution_count": 102,
     "metadata": {},
     "output_type": "execute_result"
    }
   ],
   "source": [
    "c['radius']"
   ]
  },
  {
   "cell_type": "code",
   "execution_count": 91,
   "metadata": {},
   "outputs": [
    {
     "data": {
      "text/plain": [
       "50.26548245743669"
      ]
     },
     "execution_count": 91,
     "metadata": {},
     "output_type": "execute_result"
    }
   ],
   "source": [
    "c(4)"
   ]
  },
  {
   "cell_type": "code",
   "execution_count": 88,
   "metadata": {},
   "outputs": [
    {
     "name": "stdout",
     "output_type": "stream",
     "text": [
      "6\n",
      "9\n"
     ]
    }
   ],
   "source": [
    "for v in c:\n",
    "    print(v)"
   ]
  },
  {
   "cell_type": "code",
   "execution_count": 85,
   "metadata": {},
   "outputs": [
    {
     "name": "stdout",
     "output_type": "stream",
     "text": [
      "__len__\n"
     ]
    },
    {
     "data": {
      "text/plain": [
       "2"
      ]
     },
     "execution_count": 85,
     "metadata": {},
     "output_type": "execute_result"
    }
   ],
   "source": [
    "len(c)"
   ]
  },
  {
   "cell_type": "code",
   "execution_count": 71,
   "metadata": {},
   "outputs": [
    {
     "data": {
      "text/plain": [
       "9"
      ]
     },
     "execution_count": 71,
     "metadata": {},
     "output_type": "execute_result"
    }
   ],
   "source": [
    "c.area"
   ]
  },
  {
   "cell_type": "code",
   "execution_count": 72,
   "metadata": {},
   "outputs": [
    {
     "name": "stdout",
     "output_type": "stream",
     "text": [
      "__getattr__\n"
     ]
    }
   ],
   "source": [
    "c.ddas"
   ]
  },
  {
   "cell_type": "code",
   "execution_count": 73,
   "metadata": {},
   "outputs": [
    {
     "name": "stdout",
     "output_type": "stream",
     "text": [
      "__getitem__\n"
     ]
    },
    {
     "ename": "KeyError",
     "evalue": "'radiuss'",
     "output_type": "error",
     "traceback": [
      "\u001b[0;31m---------------------------------------------------------------------------\u001b[0m",
      "\u001b[0;31mKeyError\u001b[0m                                  Traceback (most recent call last)",
      "\u001b[0;32m<ipython-input-73-fa07dbcff2f8>\u001b[0m in \u001b[0;36m<module>\u001b[0;34m\u001b[0m\n\u001b[0;32m----> 1\u001b[0;31m \u001b[0mc\u001b[0m\u001b[0;34m[\u001b[0m\u001b[0;34m'radiuss'\u001b[0m\u001b[0;34m]\u001b[0m\u001b[0;34m\u001b[0m\u001b[0;34m\u001b[0m\u001b[0m\n\u001b[0m",
      "\u001b[0;32m<ipython-input-70-2f4f91e530fb>\u001b[0m in \u001b[0;36m__getitem__\u001b[0;34m(self, name)\u001b[0m\n\u001b[1;32m      9\u001b[0m     \u001b[0;32mdef\u001b[0m \u001b[0m__getitem__\u001b[0m\u001b[0;34m(\u001b[0m\u001b[0mself\u001b[0m\u001b[0;34m,\u001b[0m \u001b[0mname\u001b[0m\u001b[0;34m)\u001b[0m\u001b[0;34m:\u001b[0m\u001b[0;34m\u001b[0m\u001b[0;34m\u001b[0m\u001b[0m\n\u001b[1;32m     10\u001b[0m         \u001b[0mprint\u001b[0m\u001b[0;34m(\u001b[0m\u001b[0;34mf'__getitem__'\u001b[0m\u001b[0;34m)\u001b[0m\u001b[0;34m\u001b[0m\u001b[0;34m\u001b[0m\u001b[0m\n\u001b[0;32m---> 11\u001b[0;31m         \u001b[0;32mreturn\u001b[0m \u001b[0mself\u001b[0m\u001b[0;34m.\u001b[0m\u001b[0m__dict__\u001b[0m\u001b[0;34m[\u001b[0m\u001b[0mname\u001b[0m\u001b[0;34m]\u001b[0m\u001b[0;34m\u001b[0m\u001b[0;34m\u001b[0m\u001b[0m\n\u001b[0m\u001b[1;32m     12\u001b[0m \u001b[0;34m\u001b[0m\u001b[0m\n\u001b[1;32m     13\u001b[0m     \u001b[0;32mdef\u001b[0m \u001b[0m__delitem__\u001b[0m\u001b[0;34m(\u001b[0m\u001b[0mself\u001b[0m\u001b[0;34m,\u001b[0m \u001b[0mkey\u001b[0m\u001b[0;34m)\u001b[0m\u001b[0;34m:\u001b[0m\u001b[0;34m\u001b[0m\u001b[0;34m\u001b[0m\u001b[0m\n",
      "\u001b[0;31mKeyError\u001b[0m: 'radiuss'"
     ]
    }
   ],
   "source": [
    "c['radiuss']"
   ]
  },
  {
   "cell_type": "code",
   "execution_count": 75,
   "metadata": {},
   "outputs": [
    {
     "name": "stdout",
     "output_type": "stream",
     "text": [
      "__setitem__\n"
     ]
    }
   ],
   "source": [
    "c['radius'] = 4"
   ]
  },
  {
   "cell_type": "code",
   "execution_count": 76,
   "metadata": {},
   "outputs": [
    {
     "name": "stdout",
     "output_type": "stream",
     "text": [
      "__getitem__\n"
     ]
    },
    {
     "data": {
      "text/plain": [
       "4"
      ]
     },
     "execution_count": 76,
     "metadata": {},
     "output_type": "execute_result"
    }
   ],
   "source": [
    "c['radius']"
   ]
  },
  {
   "cell_type": "code",
   "execution_count": 77,
   "metadata": {},
   "outputs": [
    {
     "name": "stdout",
     "output_type": "stream",
     "text": [
      "__str__\n"
     ]
    }
   ],
   "source": [
    "print(c)"
   ]
  },
  {
   "cell_type": "code",
   "execution_count": 78,
   "metadata": {},
   "outputs": [
    {
     "data": {
      "text/plain": [
       "{'radius': 4, 'area': 9}"
      ]
     },
     "execution_count": 78,
     "metadata": {},
     "output_type": "execute_result"
    }
   ],
   "source": [
    "c.__dict__"
   ]
  },
  {
   "cell_type": "code",
   "execution_count": 79,
   "metadata": {},
   "outputs": [
    {
     "name": "stdout",
     "output_type": "stream",
     "text": [
      "__getattr__\n",
      "__getattr__\n",
      "__getattr__\n",
      "__getattr__\n",
      "__getattr__\n",
      "__getattr__\n",
      "__getattr__\n",
      "__getattr__\n",
      "__getattr__\n",
      "__getattr__\n",
      "__getattr__\n",
      "__getattr__\n",
      "__getattr__\n",
      "__getattr__\n",
      "__getattr__\n",
      "__getattr__\n",
      "__getattr__\n",
      "__getattr__\n",
      "__getattr__\n",
      "__getattr__\n",
      "__getattr__\n",
      "__getattr__\n"
     ]
    },
    {
     "data": {
      "text/plain": [
       "__repr__"
      ]
     },
     "execution_count": 79,
     "metadata": {},
     "output_type": "execute_result"
    }
   ],
   "source": [
    "c"
   ]
  }
 ],
 "metadata": {
  "kernelspec": {
   "display_name": "Python 3",
   "language": "python",
   "name": "python3"
  },
  "language_info": {
   "codemirror_mode": {
    "name": "ipython",
    "version": 3
   },
   "file_extension": ".py",
   "mimetype": "text/x-python",
   "name": "python",
   "nbconvert_exporter": "python",
   "pygments_lexer": "ipython3",
   "version": "3.6.9"
  }
 },
 "nbformat": 4,
 "nbformat_minor": 2
}
