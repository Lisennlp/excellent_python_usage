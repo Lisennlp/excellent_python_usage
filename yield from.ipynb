{
 "cells": [
  {
   "cell_type": "markdown",
   "metadata": {},
   "source": [
    "## yield from 返回一个迭代对象 yield返回本身的值"
   ]
  },
  {
   "cell_type": "code",
   "execution_count": 11,
   "metadata": {},
   "outputs": [
    {
     "name": "stdout",
     "output_type": "stream",
     "text": [
      "items = [1, 2, [3, 4, [5, 6], 7], 8]\n",
      "x = 1\n",
      "1\n",
      "x = 2\n",
      "2\n",
      "x = [3, 4, [5, 6], 7]\n",
      "[3, 4, [5, 6], 7]\n",
      "x = 8\n",
      "8\n"
     ]
    }
   ],
   "source": [
    "from collections import Iterable\n",
    "def flatten(items, ignore_types=(str, bytes)): \n",
    "    print(f'items = {items}')\n",
    "    for x in items:\n",
    "        print(f'x = {x}')\n",
    "        if isinstance(x, Iterable) and not isinstance(x, ignore_types): \n",
    "            yield x\n",
    "        else: \n",
    "            yield x\n",
    "items = [1, 2, [3, 4, [5, 6], 7], 8] # Produces 1 2 3 4 5 6 7 8\n",
    "for x in flatten(items):\n",
    "    print(x)"
   ]
  },
  {
   "cell_type": "code",
   "execution_count": 7,
   "metadata": {},
   "outputs": [
    {
     "name": "stdout",
     "output_type": "stream",
     "text": [
      "items = [1, 2, [3, 4, [5, 6], 7], 8]\n",
      "x = 1\n",
      "1\n",
      "x = 2\n",
      "2\n",
      "x = [3, 4, [5, 6], 7]\n",
      "items = [3, 4, [5, 6], 7]\n",
      "x = 3\n",
      "3\n",
      "x = 4\n",
      "4\n",
      "x = [5, 6]\n",
      "items = [5, 6]\n",
      "x = 5\n",
      "5\n",
      "x = 6\n",
      "6\n",
      "x = 7\n",
      "7\n",
      "x = 8\n",
      "8\n"
     ]
    }
   ],
   "source": [
    "from collections import Iterable\n",
    "def flatten(items, ignore_types=(str, bytes)): \n",
    "    print(f'items = {items}')\n",
    "    for x in items:\n",
    "        print(f'x = {x}')\n",
    "        if isinstance(x, Iterable) and not isinstance(x, ignore_types): \n",
    "            yield from flatten(x)\n",
    "        else: \n",
    "            yield x\n",
    "items = [1, 2, [3, 4, [5, 6], 7], 8] # Produces 1 2 3 4 5 6 7 8\n",
    "for x in flatten(items):\n",
    "    print(x)"
   ]
  },
  {
   "cell_type": "code",
   "execution_count": 8,
   "metadata": {},
   "outputs": [
    {
     "name": "stdout",
     "output_type": "stream",
     "text": [
      "items = [1, 2, [3, 4, [5, 6], 7], 8]\n",
      "x = 1\n",
      "1\n",
      "x = 2\n",
      "2\n",
      "x = [3, 4, [5, 6], 7]\n",
      "[3, 4, [5, 6], 7]\n",
      "x = 8\n",
      "8\n"
     ]
    }
   ],
   "source": [
    "from collections import Iterable\n",
    "def flatten(items, ignore_types=(str, bytes)): \n",
    "    print(f'items = {items}')\n",
    "    for x in items:\n",
    "        print(f'x = {x}')\n",
    "        if isinstance(x, Iterable) and not isinstance(x, ignore_types): \n",
    "            yield x\n",
    "        else: \n",
    "            yield x\n",
    "items = [1, 2, [3, 4, [5, 6], 7], 8] # Produces 1 2 3 4 5 6 7 8\n",
    "for x in flatten(items):\n",
    "    print(x)"
   ]
  },
  {
   "cell_type": "code",
   "execution_count": 9,
   "metadata": {},
   "outputs": [
    {
     "name": "stdout",
     "output_type": "stream",
     "text": [
      "items = [1, 2, [3, 4, [5, 6], 7], 8]\n",
      "x = 1\n",
      "1\n",
      "x = 2\n",
      "2\n",
      "x = [3, 4, [5, 6], 7]\n",
      "3\n",
      "4\n",
      "[5, 6]\n",
      "7\n",
      "x = 8\n",
      "8\n"
     ]
    }
   ],
   "source": [
    "from collections import Iterable\n",
    "def flatten(items, ignore_types=(str, bytes)): \n",
    "    print(f'items = {items}')\n",
    "    for x in items:\n",
    "        print(f'x = {x}')\n",
    "        if isinstance(x, Iterable) and not isinstance(x, ignore_types): \n",
    "            yield from x\n",
    "        else: \n",
    "            yield x\n",
    "items = [1, 2, [3, 4, [5, 6], 7], 8] # Produces 1 2 3 4 5 6 7 8\n",
    "for x in flatten(items):\n",
    "    print(x)"
   ]
  },
  {
   "cell_type": "code",
   "execution_count": null,
   "metadata": {},
   "outputs": [],
   "source": []
  }
 ],
 "metadata": {
  "kernelspec": {
   "display_name": "Python 3",
   "language": "python",
   "name": "python3"
  },
  "language_info": {
   "codemirror_mode": {
    "name": "ipython",
    "version": 3
   },
   "file_extension": ".py",
   "mimetype": "text/x-python",
   "name": "python",
   "nbconvert_exporter": "python",
   "pygments_lexer": "ipython3",
   "version": "3.6.9"
  }
 },
 "nbformat": 4,
 "nbformat_minor": 2
}
