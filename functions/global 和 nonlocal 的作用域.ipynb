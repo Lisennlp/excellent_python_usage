{
 "cells": [
  {
   "cell_type": "markdown",
   "metadata": {},
   "source": [
    "python引用变量的顺序： 当前作用域局部变量->外层作用域变量->当前模块中的全局变量->python内置变量 。\n",
    "\n",
    "global关键字用来在函数或其他局部作用域中使用全局变量。但是如果不修改全局变量也可以不使用global关键字"
   ]
  },
  {
   "cell_type": "code",
   "execution_count": 1,
   "metadata": {},
   "outputs": [
    {
     "ename": "UnboundLocalError",
     "evalue": "local variable 'gcount' referenced before assignment",
     "output_type": "error",
     "traceback": [
      "\u001b[0;31m---------------------------------------------------------------------------\u001b[0m",
      "\u001b[0;31mUnboundLocalError\u001b[0m                         Traceback (most recent call last)",
      "\u001b[0;32m<ipython-input-1-f7f94cf1b74f>\u001b[0m in \u001b[0;36m<module>\u001b[0;34m\u001b[0m\n\u001b[1;32m      4\u001b[0m     \u001b[0mgcount\u001b[0m\u001b[0;34m+=\u001b[0m\u001b[0;36m1\u001b[0m\u001b[0;34m\u001b[0m\u001b[0;34m\u001b[0m\u001b[0m\n\u001b[1;32m      5\u001b[0m     \u001b[0mprint\u001b[0m \u001b[0;34m(\u001b[0m\u001b[0mgcount\u001b[0m\u001b[0;34m)\u001b[0m\u001b[0;34m\u001b[0m\u001b[0;34m\u001b[0m\u001b[0m\n\u001b[0;32m----> 6\u001b[0;31m \u001b[0mglobal_test\u001b[0m\u001b[0;34m(\u001b[0m\u001b[0;34m)\u001b[0m\u001b[0;34m\u001b[0m\u001b[0;34m\u001b[0m\u001b[0m\n\u001b[0m\u001b[1;32m      7\u001b[0m \u001b[0;34m\u001b[0m\u001b[0m\n\u001b[1;32m      8\u001b[0m \u001b[0;31m# 报错，第一行定义了一个全局变量，（可以省略global关键字）。\u001b[0m\u001b[0;34m\u001b[0m\u001b[0;34m\u001b[0m\u001b[0;34m\u001b[0m\u001b[0m\n",
      "\u001b[0;32m<ipython-input-1-f7f94cf1b74f>\u001b[0m in \u001b[0;36mglobal_test\u001b[0;34m()\u001b[0m\n\u001b[1;32m      2\u001b[0m \u001b[0;34m\u001b[0m\u001b[0m\n\u001b[1;32m      3\u001b[0m \u001b[0;32mdef\u001b[0m \u001b[0mglobal_test\u001b[0m\u001b[0;34m(\u001b[0m\u001b[0;34m)\u001b[0m\u001b[0;34m:\u001b[0m\u001b[0;34m\u001b[0m\u001b[0;34m\u001b[0m\u001b[0m\n\u001b[0;32m----> 4\u001b[0;31m     \u001b[0mgcount\u001b[0m\u001b[0;34m+=\u001b[0m\u001b[0;36m1\u001b[0m\u001b[0;34m\u001b[0m\u001b[0;34m\u001b[0m\u001b[0m\n\u001b[0m\u001b[1;32m      5\u001b[0m     \u001b[0mprint\u001b[0m \u001b[0;34m(\u001b[0m\u001b[0mgcount\u001b[0m\u001b[0;34m)\u001b[0m\u001b[0;34m\u001b[0m\u001b[0;34m\u001b[0m\u001b[0m\n\u001b[1;32m      6\u001b[0m \u001b[0mglobal_test\u001b[0m\u001b[0;34m(\u001b[0m\u001b[0;34m)\u001b[0m\u001b[0;34m\u001b[0m\u001b[0;34m\u001b[0m\u001b[0m\n",
      "\u001b[0;31mUnboundLocalError\u001b[0m: local variable 'gcount' referenced before assignment"
     ]
    }
   ],
   "source": [
    "gcount = 0\n",
    "\n",
    "def global_test():\n",
    "    gcount+=1\n",
    "    print (gcount)\n",
    "global_test()\n",
    "\n",
    "# 报错，第一行定义了一个全局变量，（可以省略global关键字）。\n",
    "# 在global_test 函数中程序会因为“如果内部函数有引用外部函数的同名变量或者全局变量,并且对这个变量有修改.那么python会认为它是一个局部变量,又因为函数中没有gcount的定义和赋值，所以报错"
   ]
  },
  {
   "cell_type": "markdown",
   "metadata": {},
   "source": [
    "二、声明全局变量，如果在局部要对全局变量修改，需要在局部也要先声明该全局变量："
   ]
  },
  {
   "cell_type": "code",
   "execution_count": 3,
   "metadata": {},
   "outputs": [
    {
     "name": "stdout",
     "output_type": "stream",
     "text": [
      "1\n"
     ]
    }
   ],
   "source": [
    "gcount = 0\n",
    "\n",
    "def global_test():\n",
    "    global gcount\n",
    "    gcount +=1\n",
    "    print (gcount)\n",
    "global_test()\n"
   ]
  },
  {
   "cell_type": "markdown",
   "metadata": {},
   "source": [
    "三、 在局部如果不声明全局变量，并且不修改全局变量。则可以正常使用全局变量："
   ]
  },
  {
   "cell_type": "code",
   "execution_count": 4,
   "metadata": {},
   "outputs": [
    {
     "name": "stdout",
     "output_type": "stream",
     "text": [
      "0\n"
     ]
    }
   ],
   "source": [
    "gcount = 0\n",
    "\n",
    "\n",
    "def global_test():\n",
    "    print(gcount)\n",
    "\n",
    "\n",
    "global_test()\n"
   ]
  },
  {
   "cell_type": "markdown",
   "metadata": {},
   "source": [
    "四、nonlocal关键字用来在函数或其他作用域中使用外层(非全局)变量"
   ]
  },
  {
   "cell_type": "code",
   "execution_count": 6,
   "metadata": {},
   "outputs": [
    {
     "name": "stdout",
     "output_type": "stream",
     "text": [
      "1\n",
      "2\n",
      "3\n"
     ]
    }
   ],
   "source": [
    "def make_counter(): \n",
    "    count = 0 \n",
    "    def counter(): \n",
    "        nonlocal count \n",
    "        count += 1 \n",
    "        return count \n",
    "    return counter \n",
    "\n",
    "def make_counter_test(): \n",
    "  mc = make_counter() \n",
    "  print(mc())\n",
    "  print(mc())\n",
    "  print(mc())\n",
    "\n",
    "make_counter_test()\n"
   ]
  },
  {
   "cell_type": "markdown",
   "metadata": {},
   "source": [
    "global 定义的变量，表明其作用域在局部以外，即局部函数执行完之后，不销毁 函数内部以global定义的变量："
   ]
  },
  {
   "cell_type": "code",
   "execution_count": 7,
   "metadata": {},
   "outputs": [
    {
     "name": "stdout",
     "output_type": "stream",
     "text": [
      "3\n"
     ]
    }
   ],
   "source": [
    "def add_a():\n",
    "    global  a\n",
    "    a =   3\n",
    "add_a()\n",
    "print(a)\n"
   ]
  },
  {
   "cell_type": "markdown",
   "metadata": {},
   "source": [
    "在函数 add_b 内 global 定义的变量 b，只能在 函数 do_global 内引用， 如果要在 do_global 内修改，必须在 do_global 函数里面声明 global b ，表明是修改外面的 全局变量 b ："
   ]
  },
  {
   "cell_type": "code",
   "execution_count": 12,
   "metadata": {},
   "outputs": [
    {
     "name": "stdout",
     "output_type": "stream",
     "text": [
      "52\n",
      "52\n",
      "52\n"
     ]
    }
   ],
   "source": [
    "def add_b():\n",
    "    global  b\n",
    "    b = 42\n",
    "    def do_global():\n",
    "        global  b\n",
    "        b = b + 10\n",
    "        print(b)\n",
    "    do_global()\n",
    "    print(b)\n",
    "add_b()\n",
    "print(b)\n",
    "\n",
    "\n",
    "# 如果将do_global()里的global b注释掉,会报错。global 定义的 b ，只能引用，不能修改。"
   ]
  },
  {
   "cell_type": "code",
   "execution_count": 11,
   "metadata": {},
   "outputs": [
    {
     "name": "stdout",
     "output_type": "stream",
     "text": [
      "10\n",
      "10\n"
     ]
    }
   ],
   "source": [
    "def add_b():\n",
    "    #global  b\n",
    "    b = 42\n",
    "    def do_global():\n",
    "        nonlocal  b\n",
    "        b = 10\n",
    "        print(b)\n",
    "    do_global()\n",
    "    print(b)\n",
    "add_b()\n",
    "\n",
    "\n",
    "# 如果在最后加上print(\" b = %s \" % b)，则会报错\n",
    "# NameError: name 'b' is not defined\n",
    "# 说明： nonlocal  适用于在局部函数 中 的局部函数， 把最内层的局部 变量设置成外层局部可用，但是还不是全局的。\n"
   ]
  },
  {
   "cell_type": "code",
   "execution_count": null,
   "metadata": {},
   "outputs": [],
   "source": []
  }
 ],
 "metadata": {
  "kernelspec": {
   "display_name": "Python 3",
   "language": "python",
   "name": "python3"
  },
  "language_info": {
   "codemirror_mode": {
    "name": "ipython",
    "version": 3
   },
   "file_extension": ".py",
   "mimetype": "text/x-python",
   "name": "python",
   "nbconvert_exporter": "python",
   "pygments_lexer": "ipython3",
   "version": "3.6.9"
  }
 },
 "nbformat": 4,
 "nbformat_minor": 2
}
