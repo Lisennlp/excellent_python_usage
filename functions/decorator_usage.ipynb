{
 "cells": [
  {
   "cell_type": "markdown",
   "metadata": {},
   "source": [
    "- wrap_function表示传入的函数lsp_func()一个别名一样，共享lsp_func()的传入参数，这样的话，我们可以把中间结果加入到auth这个参数中，继续传给lsp_func()\n",
    "\n",
    "- 之后，我们修改了传入参数auth，继续给function(*args, **auth)。\n",
    "\n",
    "- @wraps(function)：作用就是保留function函数的元信息，比如function.__name__, function.__doc__\n",
    "\n",
    "\n"
   ]
  },
  {
   "cell_type": "markdown",
   "metadata": {},
   "source": [
    "## decorator表示包装传入的函数function，这是固定写法，但是如果没有check_permission，这样的装饰器就不能传递参数，因此，在外边包装个check_permission\n",
    "## 函数，可以给装饰器也传递参数 \n",
    "\n",
    "## return wrap_function固定写法，返回被修饰的函数"
   ]
  },
  {
   "cell_type": "code",
   "execution_count": 14,
   "metadata": {},
   "outputs": [
    {
     "name": "stdout",
     "output_type": "stream",
     "text": [
      "auth 0 = {'x': 9}\n",
      "auth 2 = {'x': 9, 'y': 10}\n"
     ]
    },
    {
     "data": {
      "text/plain": [
       "{'x': 9, 'y': 10}"
      ]
     },
     "execution_count": 14,
     "metadata": {},
     "output_type": "execute_result"
    }
   ],
   "source": [
    "\n",
    "def check_permission(user_roles):\n",
    "    def decorator(function):\n",
    "        @wraps(function)\n",
    "        def wrap_function(*args, **auth):\n",
    "            print(f'auth 0 = {auth}')\n",
    "            auth['y'] = 10\n",
    "            return function(*args, **auth)\n",
    "        return wrap_function\n",
    "    return decorator\n",
    "\n",
    "\n",
    "from functools import wraps\n",
    "\n",
    "@check_permission(['a', 'b'])\n",
    "def lsp_func(**auth):\n",
    "    print(f'auth 2 = {auth}')\n",
    "    return auth\n",
    "\n",
    "res = lsp_func(x=9)\n",
    "res"
   ]
  },
  {
   "cell_type": "code",
   "execution_count": null,
   "metadata": {},
   "outputs": [],
   "source": [
    "## 去掉@wraps(function)"
   ]
  },
  {
   "cell_type": "code",
   "execution_count": 8,
   "metadata": {},
   "outputs": [
    {
     "data": {
      "text/plain": [
       "'wrap_function'"
      ]
     },
     "execution_count": 8,
     "metadata": {},
     "output_type": "execute_result"
    }
   ],
   "source": [
    "lsp_func.__name__"
   ]
  },
  {
   "cell_type": "code",
   "execution_count": null,
   "metadata": {},
   "outputs": [],
   "source": [
    "## 加上@wraps(function)"
   ]
  },
  {
   "cell_type": "code",
   "execution_count": 10,
   "metadata": {},
   "outputs": [
    {
     "data": {
      "text/plain": [
       "'lsp_func'"
      ]
     },
     "execution_count": 10,
     "metadata": {},
     "output_type": "execute_result"
    }
   ],
   "source": [
    "lsp_func.__name__"
   ]
  },
  {
   "cell_type": "markdown",
   "metadata": {},
   "source": [
    "## 以下就是没有参数的装饰器写法"
   ]
  },
  {
   "cell_type": "code",
   "execution_count": 23,
   "metadata": {},
   "outputs": [
    {
     "name": "stdout",
     "output_type": "stream",
     "text": [
      "(10000000,)\n",
      "__main__.func_test : 0.6585159999999988\n"
     ]
    }
   ],
   "source": [
    "import time\n",
    "from functools import wraps\n",
    "def timethis(func): \n",
    "    @wraps(func)\n",
    "    def wrapper(*args, **kwargs):\n",
    "        print(args)\n",
    "        start = time.process_time()\n",
    "        r = func(*args, **kwargs)\n",
    "        end = time.process_time()\n",
    "        print('{}.{} : {}'.format(func.__module__, func.__name__, end - start)) \n",
    "        return r\n",
    "    return wrapper\n",
    "\n",
    "@timethis\n",
    "def func_test(n:int=3):\n",
    "    while n > 0:\n",
    "        n -= 1\n",
    "#         if n % 1000 == 0:\n",
    "#             print(f'n = {n}')\n",
    "    \n",
    "func_test(10000000)"
   ]
  },
  {
   "cell_type": "code",
   "execution_count": 24,
   "metadata": {},
   "outputs": [
    {
     "data": {
      "text/plain": [
       "{'n': int}"
      ]
     },
     "execution_count": 24,
     "metadata": {},
     "output_type": "execute_result"
    }
   ],
   "source": [
    "func_test.__annotations__"
   ]
  },
  {
   "cell_type": "code",
   "execution_count": null,
   "metadata": {},
   "outputs": [],
   "source": []
  },
  {
   "cell_type": "markdown",
   "metadata": {},
   "source": [
    "## wrapper是被装饰的函数"
   ]
  },
  {
   "cell_type": "code",
   "execution_count": null,
   "metadata": {},
   "outputs": [],
   "source": [
    "def add_config(name: str, dtype: type, default=None, desc: str = ''):\n",
    "    \"\"\"\n",
    "    作为修饰器，给修饰的可调用过程（方法，类）加上一个新的配置项。并在该过程调用时注入第一个参数为config。\n",
    "    :param name: 配置名称\n",
    "    :param dtype: 配置的数据类型，仅支持 int, str, float。如果想使用bool，请用int的0和1代替。\n",
    "    :param default: 默认项，建议设置。如果想表示None，可以用空字符串之类表示。\n",
    "    :param desc: 描述。help中显示的内容。\n",
    "    \"\"\"\n",
    "\n",
    "    def wrapper(cls):\n",
    "        cls = _insert_config(cls)  # [train, evaluate, predict, server]\n",
    "        group_name = _get_hack_name(cls)  # [train, evaluate, predict, server]\n",
    "        global_config = GlobalConfig()\n",
    "        global_config.get_config_group(group_name).add_config(name, dtype, default, desc)\n",
    "        print(f'添加参数name={name}')\n",
    "        return cls\n",
    "\n",
    "    return wrapper\n"
   ]
  },
  {
   "cell_type": "code",
   "execution_count": null,
   "metadata": {},
   "outputs": [],
   "source": []
  },
  {
   "cell_type": "code",
   "execution_count": null,
   "metadata": {},
   "outputs": [],
   "source": []
  }
 ],
 "metadata": {
  "kernelspec": {
   "display_name": "Python 3",
   "language": "python",
   "name": "python3"
  },
  "language_info": {
   "codemirror_mode": {
    "name": "ipython",
    "version": 3
   },
   "file_extension": ".py",
   "mimetype": "text/x-python",
   "name": "python",
   "nbconvert_exporter": "python",
   "pygments_lexer": "ipython3",
   "version": "3.6.9"
  }
 },
 "nbformat": 4,
 "nbformat_minor": 2
}
