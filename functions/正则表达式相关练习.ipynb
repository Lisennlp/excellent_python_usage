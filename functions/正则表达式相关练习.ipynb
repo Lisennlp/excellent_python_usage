{
 "cells": [
  {
   "cell_type": "code",
   "execution_count": 2,
   "metadata": {
    "scrolled": true
   },
   "outputs": [
    {
     "name": "stdout",
     "output_type": "stream",
     "text": [
      "请用正则表达式提取出下面文本中的时间，金额，数字，省份，邮箱，身份证号，手机号25省份发布国庆假期旅游收入：15省份超百亿中新经纬客户端10月10日电 （张猛）国庆八天假期，游客出游意愿高涨，旅游业复苏喜人。截至10月9日22时，据不完全统计，已有25个省份公布国庆假期旅游收入，15省份旅游收入超百亿。苏、赣、贵三省份旅游收入居前三在已公布旅游收入的25个省份中，收入500亿+的省份有1个，9省份跻身300亿+行列，15省份收入超百亿。具体来看，江苏以512.55亿的旅游收入暂居榜首，江西以398.81亿紧随其后，贵州367.21亿位列第三。值得注意的是，2018-2019年，江苏国庆假期旅游收入也“霸占”冠军宝座，旅游收入分别为578.62亿、631.27亿。江苏省文旅厅介绍，节日前夕，推出10条运河主题精品线路、50条乡村旅游精品线路，产品精、服务优的生态旅游、乡村旅游，为游客走向青山绿水间提供了多样化选择。新公布30家省级夜间文旅消费集聚区为旅游者提供了丰富的夜间消费场所，也延伸了文旅消费链条。6省份接待游客均超5000万在接待游客人次方面，数据显示，河南以7234.98万人次游客接待量居首，首次突破7000万人次大关，并创下了国庆黄金周各省份游客接待量纪录。此外，还有江西、山西、湖北、贵州、安徽5省份接待游客人次均超5000万。中新经纬记者梳理发现，多地文化和旅游市场复苏明显。其中，西藏在假期前7天共接待游客177.46万人次，同比增长11.45%；新疆共接待国内游客1535.43万人次，按可比口径同比增长10.78%；河南8天假期共接待游客7234.98万人次，与2019年国庆7天假期相比增长9.09%；北京接待游客998.2万人次，同比增长8.4%；福建接待游客3928.45万人次，比2019年假日增长5.5%。十月五日，针对全年旅游经济形势，中国旅游研究院主要负责同志表示，对第四季度旅游市场恢复和产业振兴保持乐观的预期，预计全年旅游经济呈“U型”恢复和振兴发展态势将是大概率事件。中国旅游研究院还建议，要进一步扩大冬季旅游产品的优质供给，巩固全年旅游经济稳中向好的基本面。结合民宿、运动、度假、温泉、研学等开发新的冬季旅游项目及产品，加强在冰雪资源匮乏的南方地区开展冰雪旅游宣传。（中新经纬APP）小明问你的邮箱是多少，张山回答说，我的QQ邮箱是1234567@qq.com，然后126邮箱是765431zhangsan@126.com，新浪邮箱是765431zhangsan@sina.com，谷歌邮箱是765431zhangsan@gmail.com，163邮箱是765431zhangsan@163.com，学校的邮箱是765431zhangsan@cumt.edu.com，小明接着问，那你的手机号多少啊？18907772345, 还一个移动的13907843456我的身份证号是362201199909044587，，，2010年5月，我们, 2号\n"
     ]
    }
   ],
   "source": [
    "import docx\n",
    "import re\n",
    "\n",
    "\n",
    "path = '/Users/lisen/Desktop/小依琳正则表达式练习题.docx'\n",
    "file = docx.Document(path)\n",
    "texts = ''.join([p.text for p in file.paragraphs])\n",
    "texts = texts.replace('\\u3000', '') + '，，，2010年5月，我们, 2号'\n",
    "print(texts)"
   ]
  },
  {
   "cell_type": "code",
   "execution_count": null,
   "metadata": {},
   "outputs": [],
   "source": [
    "texts = '请用正则表达式提取出下面文本中的时间，金额，数字，省份，邮箱，身份证号，手机号25省份发布国庆假期旅游收入：15省份超百亿中新经纬客户端10月10日电 （张猛）国庆八天假期，游客出游意愿高涨，旅游业复苏喜人。截至10月9日22时，据不完全统计，已有25个省份公布国庆假期旅游收入，15省份旅游收入超百亿。苏、赣、贵三省份旅游收入居前三在已公布旅游收入的25个省份中，收入500亿+的省份有1个，9省份跻身300亿+行列，15省份收入超百亿。具体来看，江苏以512.55亿的旅游收入暂居榜首，江西以398.81亿紧随其后，贵州367.21亿位列第三。值得注意的是，2018-2019年，江苏国庆假期旅游收入也“霸占”冠军宝座，旅游收入分别为578.62亿、631.27亿。江苏省文旅厅介绍，节日前夕，推出10条运河主题精品线路、50条乡村旅游精品线路，产品精、服务优的生态旅游、乡村旅游，为游客走向青山绿水间提供了多样化选择。新公布30家省级夜间文旅消费集聚区为旅游者提供了丰富的夜间消费场所，也延伸了文旅消费链条。6省份接待游客均超5000万在接待游客人次方面，数据显示，河南以7234.98万人次游客接待量居首，首次突破7000万人次大关，并创下了国庆黄金周各省份游客接待量纪录。此外，还有江西、山西、湖北、贵州、安徽5省份接待游客人次均超5000万。中新经纬记者梳理发现，多地文化和旅游市场复苏明显。其中，西藏在假期前7天共接待游客177.46万人次，同比增长11.45%；新疆共接待国内游客1535.43万人次，按可比口径同比增长10.78%；河南8天假期共接待游客7234.98万人次，与2019年国庆7天假期相比增长9.09%；北京接待游客998.2万人次，同比增长8.4%；福建接待游客3928.45万人次，比2019年假日增长5.5%。十月五日，针对全年旅游经济形势，中国旅游研究院主要负责同志表示，对第四季度旅游市场恢复和产业振兴保持乐观的预期，预计全年旅游经济呈“U型”恢复和振兴发展态势将是大概率事件。中国旅游研究院还建议，要进一步扩大冬季旅游产品的优质供给，巩固全年旅游经济稳中向好的基本面。结合民宿、运动、度假、温泉、研学等开发新的冬季旅游项目及产品，加强在冰雪资源匮乏的南方地区开展冰雪旅游宣传。（中新经纬APP）小明问你的邮箱是多少，张山回答说，我的QQ邮箱是1234567@qq.com，然后126邮箱是765431zhangsan@126.com，新浪邮箱是765431zhangsan@sina.com，谷歌邮箱是765431zhangsan@gmail.com，163邮箱是765431zhangsan@163.com，学校的邮箱是765431zhangsan@cumt.edu.com，小明接着问，那你的手机号多少啊？18907772345, 还一个移动的13907843456我的身份证号是362201199909044587，，，2010年5月，我们, 2号'"
   ]
  },
  {
   "cell_type": "markdown",
   "metadata": {},
   "source": [
    "### 请用正则表达式提取出下面文本中的时间，金额，数字，省份，邮箱，身份证号，手机号"
   ]
  },
  {
   "cell_type": "code",
   "execution_count": 99,
   "metadata": {},
   "outputs": [
    {
     "data": {
      "text/plain": [
       "['10月10日', '10月9日', '2018-2019年', '2019年', '2019年', '2010年5月', '2号']"
      ]
     },
     "execution_count": 99,
     "metadata": {},
     "output_type": "execute_result"
    }
   ],
   "source": [
    "# 1 匹配日期: 数字 + 年（月日）， 数字-数字年，数字+号\n",
    "time_pat = '(\\d+-\\d+年|(\\d+年)?(\\d+月)?(\\d+日|\\d+号)?)'\n",
    "time_result = re.findall(time_pat, texts)\n",
    "time_result = [t[0] for t in time_result if t[0]]\n",
    "print(time_result)"
   ]
  },
  {
   "cell_type": "code",
   "execution_count": 184,
   "metadata": {},
   "outputs": [
    {
     "name": "stdout",
     "output_type": "stream",
     "text": [
      "['百亿', '百亿', '500亿', '300亿', '百亿', '512.55亿', '398.81亿', '367.21亿', '578.62亿', '631.27亿']\n"
     ]
    }
   ],
   "source": [
    "# 2 匹配金额\n",
    "money_pat = '\\d+\\.?\\d*百?亿|万亿|千亿|百亿|十亿'\n",
    "money_result = re.findall(money_pat, texts)\n",
    "print(money_result)"
   ]
  },
  {
   "cell_type": "code",
   "execution_count": 183,
   "metadata": {},
   "outputs": [
    {
     "name": "stdout",
     "output_type": "stream",
     "text": [
      "['25', '15', '10', '10', '10', '9', '22', '25', '15', '25', '500', '1', '9', '300', '15', '512.55', '398.81', '367.21', '2018', '2019', '578.62', '631.27', '10', '50', '30', '6', '5000', '7234.98', '7000', '5', '5000', '7', '177.46', '11.45', '1535.43', '10.78', '8', '7234.98', '2019', '7', '9.09', '998.2', '8.4', '3928.45', '2019', '5.5', '1234567', '126', '765431', '126.', '765431', '765431', '163', '765431', '163.', '765431', '18907772345', '13907843456', '362201199909044587', '2010', '5', '2']\n"
     ]
    }
   ],
   "source": [
    "# 3 匹配数字\n",
    "num_pat = '\\d+\\.?\\d*'\n",
    "num_result = re.findall(num_pat, texts)\n",
    "print(num_result)"
   ]
  },
  {
   "cell_type": "code",
   "execution_count": 135,
   "metadata": {},
   "outputs": [
    {
     "name": "stdout",
     "output_type": "stream",
     "text": [
      "['江苏', '江西', '贵州', '江苏', '江苏省', '河南', '江西', '山西', '湖北', '贵州', '安徽', '河南', '北京', '福建']\n"
     ]
    }
   ],
   "source": [
    "# 4 匹配身份\n",
    "provinces = '河北省、山西省、辽宁省、吉林省、黑龙江省、江苏省、浙江省、安徽省、福建省、江西省、山东省、河南省、湖北省、湖南省、广东省、海南省、四川省、贵州省、云南省、陕西省、甘肃省、青海省、台湾省'\n",
    "regions = '内蒙古自治区、广西壮族自治区、西藏自治区、宁夏回族自治区、新疆维吾尔自治区、香港特别行政区、澳门特别行政区'\n",
    "cities = '北京市、天津市、上海市、重庆市'\n",
    "provinces_1 = provinces.replace('省', '').split('、')\n",
    "provinces = provinces.split('、') + provinces_1\n",
    "cities_1 = cities.replace('市', '').split('、')\n",
    "cities = cities.split('、') + cities_1\n",
    "regions = regions.split('、')\n",
    "words = [*provinces, *regions, *cities]\n",
    "location_pat = '|'.join(words)\n",
    "location_result =  re.findall(location_pat, texts)\n",
    "print(location_result)\n"
   ]
  },
  {
   "cell_type": "code",
   "execution_count": 5,
   "metadata": {},
   "outputs": [
    {
     "name": "stdout",
     "output_type": "stream",
     "text": [
      "['1234567@qq.com', '765431zhangsan@126.com', '765431zhangsan@sina.com', '765431zhangsan@gmail.com', '765431zhangsan@163.com', '765431zhangsan@cumt.edu.com']\n"
     ]
    }
   ],
   "source": [
    "# 5 匹配邮箱  非中文 + @ + .. + .com\n",
    "\n",
    "email_pat = '[a-zA-Z0-9]+@[a-zA-Z0-9]+.*?\\.com'\n",
    "email_result = re.findall(email_pat, texts)\n",
    "print(email_result)"
   ]
  },
  {
   "cell_type": "code",
   "execution_count": 7,
   "metadata": {},
   "outputs": [
    {
     "name": "stdout",
     "output_type": "stream",
     "text": [
      "[('362201199909044587', '19', '7')]\n"
     ]
    }
   ],
   "source": [
    "# 6 身份证号\n",
    "id_pat = '(\\d{6}(18|19|20)\\d{2}[0-1]\\d[0-2]\\d{4}(\\d|x|X))'\n",
    "id_result = re.findall(id_pat, texts)\n",
    "print(id_result)"
   ]
  },
  {
   "cell_type": "code",
   "execution_count": 175,
   "metadata": {},
   "outputs": [
    {
     "name": "stdout",
     "output_type": "stream",
     "text": [
      "[('18907772345', '', ''), ('13907843456', '', '')]\n"
     ]
    }
   ],
   "source": [
    "# 7 手机号\n",
    "tel_pat = \"\\D(1[358]\\d{9})\\D|\\D(147\\d{8})\\D|\\D(179\\d{8})\\D\"\n",
    "tel_result = re.findall(tel_pat, texts)\n",
    "print(tel_result)"
   ]
  }
 ],
 "metadata": {
  "kernelspec": {
   "display_name": "Python 3.6.9 64-bit ('python36': conda)",
   "language": "python",
   "name": "python36964bitpython36condafd83865620ca4220993ff7d88daf9be5"
  },
  "language_info": {
   "codemirror_mode": {
    "name": "ipython",
    "version": 3
   },
   "file_extension": ".py",
   "mimetype": "text/x-python",
   "name": "python",
   "nbconvert_exporter": "python",
   "pygments_lexer": "ipython3",
   "version": "3.6.9"
  }
 },
 "nbformat": 4,
 "nbformat_minor": 2
}
