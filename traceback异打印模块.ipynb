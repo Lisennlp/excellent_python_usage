{
 "cells": [
  {
   "cell_type": "code",
   "execution_count": 1,
   "metadata": {},
   "outputs": [
    {
     "name": "stdout",
     "output_type": "stream",
     "text": [
      "Traceback (most recent call last):\n",
      "  File \"<ipython-input-1-754b3e7bcc25>\", line 5, in <module>\n",
      "    a = str(i) + 1\n",
      "TypeError: must be str, not int\n",
      "Traceback (most recent call last):\n",
      "  File \"<ipython-input-1-754b3e7bcc25>\", line 5, in <module>\n",
      "    a = str(i) + 1\n",
      "TypeError: must be str, not int\n",
      "Traceback (most recent call last):\n",
      "  File \"<ipython-input-1-754b3e7bcc25>\", line 5, in <module>\n",
      "    a = str(i) + 1\n",
      "TypeError: must be str, not int\n",
      "Traceback (most recent call last):\n",
      "  File \"<ipython-input-1-754b3e7bcc25>\", line 5, in <module>\n",
      "    a = str(i) + 1\n",
      "TypeError: must be str, not int\n",
      "Traceback (most recent call last):\n",
      "  File \"<ipython-input-1-754b3e7bcc25>\", line 5, in <module>\n",
      "    a = str(i) + 1\n",
      "TypeError: must be str, not int\n",
      "Traceback (most recent call last):\n",
      "  File \"<ipython-input-1-754b3e7bcc25>\", line 5, in <module>\n",
      "    a = str(i) + 1\n",
      "TypeError: must be str, not int\n",
      "Traceback (most recent call last):\n",
      "  File \"<ipython-input-1-754b3e7bcc25>\", line 5, in <module>\n",
      "    a = str(i) + 1\n",
      "TypeError: must be str, not int\n",
      "Traceback (most recent call last):\n",
      "  File \"<ipython-input-1-754b3e7bcc25>\", line 5, in <module>\n",
      "    a = str(i) + 1\n",
      "TypeError: must be str, not int\n",
      "Traceback (most recent call last):\n",
      "  File \"<ipython-input-1-754b3e7bcc25>\", line 5, in <module>\n",
      "    a = str(i) + 1\n",
      "TypeError: must be str, not int\n",
      "Traceback (most recent call last):\n",
      "  File \"<ipython-input-1-754b3e7bcc25>\", line 5, in <module>\n",
      "    a = str(i) + 1\n",
      "TypeError: must be str, not int\n"
     ]
    }
   ],
   "source": [
    "import traceback, sys\n",
    "\n",
    "for i in range(10):\n",
    "    try:\n",
    "        a = str(i) + 1\n",
    "        print(a)\n",
    "    except Exception as e:\n",
    "        # exc_type, exc_value, exc_traceback_obj = sys.exc_info()\n",
    "        # traceback.print_exception(exc_type, exc_value, exc_traceback_obj, limit=2, file=sys.stdout)\n",
    "\n",
    "        traceback.print_exc(limit=2, file=sys.stdout)"
   ]
  }
 ],
 "metadata": {
  "kernelspec": {
   "display_name": "Python 3",
   "language": "python",
   "name": "python3"
  },
  "language_info": {
   "codemirror_mode": {
    "name": "ipython",
    "version": 3
   },
   "file_extension": ".py",
   "mimetype": "text/x-python",
   "name": "python",
   "nbconvert_exporter": "python",
   "pygments_lexer": "ipython3",
   "version": "3.6.9"
  }
 },
 "nbformat": 4,
 "nbformat_minor": 2
}
