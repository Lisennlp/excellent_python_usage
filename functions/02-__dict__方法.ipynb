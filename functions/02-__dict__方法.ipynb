{
 "cells": [
  {
   "cell_type": "code",
   "execution_count": 4,
   "metadata": {},
   "outputs": [
    {
     "name": "stdout",
     "output_type": "stream",
     "text": [
      "{'__module__': '__main__', '__doc__': '\\n    Class A.\\n    ', 'a': 0, 'b': 1, '__init__': <function A.__init__ at 0x10cfc4400>, 'test': <function A.test at 0x10cfc4378>, 'static_test': <staticmethod object at 0x10cfcb128>, 'class_test': <classmethod object at 0x10cfcb160>, '__dict__': <attribute '__dict__' of 'A' objects>, '__weakref__': <attribute '__weakref__' of 'A' objects>}\n"
     ]
    }
   ],
   "source": [
    "class A(object):\n",
    "    \"\"\"\n",
    "    Class A.\n",
    "    \"\"\"\n",
    "\n",
    "    a = 0\n",
    "    b = 1\n",
    "\n",
    "    def __init__(self):\n",
    "        self.a = 2\n",
    "        self.b = 3\n",
    "\n",
    "    def test(self):\n",
    "        print('a normal func.')\n",
    "\n",
    "    @staticmethod\n",
    "    def static_test(self):\n",
    "        print('a static func.')\n",
    "\n",
    "    @classmethod\n",
    "    def class_test(self):\n",
    "        print('a calss func.')\n",
    "\n",
    "\n",
    "obj = A()\n",
    "print(A.__dict__)\n"
   ]
  },
  {
   "cell_type": "code",
   "execution_count": 5,
   "metadata": {},
   "outputs": [
    {
     "name": "stdout",
     "output_type": "stream",
     "text": [
      "{'a': 2, 'b': 3}\n"
     ]
    }
   ],
   "source": [
    "print(obj.__dict__)"
   ]
  }
 ],
 "metadata": {
  "kernelspec": {
   "display_name": "Python 3",
   "language": "python",
   "name": "python3"
  },
  "language_info": {
   "codemirror_mode": {
    "name": "ipython",
    "version": 3
   },
   "file_extension": ".py",
   "mimetype": "text/x-python",
   "name": "python",
   "nbconvert_exporter": "python",
   "pygments_lexer": "ipython3",
   "version": "3.6.9"
  }
 },
 "nbformat": 4,
 "nbformat_minor": 2
}
