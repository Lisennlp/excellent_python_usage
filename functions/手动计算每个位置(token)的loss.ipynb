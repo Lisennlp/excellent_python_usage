{
 "cells": [
  {
   "cell_type": "code",
   "execution_count": 1,
   "metadata": {},
   "outputs": [
    {
     "name": "stdout",
     "output_type": "stream",
     "text": [
      "tensor([[0.7595, 0.3526, 0.0479, 0.6684],\n",
      "        [0.5149, 0.4248, 0.5377, 0.9349],\n",
      "        [0.0801, 0.2237, 0.2990, 0.3178],\n",
      "        [0.0583, 0.7461, 0.3659, 0.8972],\n",
      "        [0.7178, 0.1821, 0.9660, 0.1914],\n",
      "        [0.5666, 0.8041, 0.9830, 0.0220]])\n",
      "tensor([1, 0, 1, 0, 0, 1])\n",
      "损失函数计算的loss 1.4655965566635132\n",
      "每个位置的loss tensor([1.5284, 1.4949, 1.3970, 1.8966, 1.2406, 1.2360])\n",
      "平均loss 1.4655965566635132\n"
     ]
    }
   ],
   "source": [
    "import torch\n",
    "\n",
    "fn = torch.nn.CrossEntropyLoss()\n",
    "\n",
    "logits = torch.tensor([[0.7595, 0.3526, 0.0479, 0.6684],\n",
    "        [0.5149, 0.4248, 0.5377, 0.9349],\n",
    "        [0.0801, 0.2237, 0.2990, 0.3178],\n",
    "        [0.0583, 0.7461, 0.3659, 0.8972],\n",
    "        [0.7178, 0.1821, 0.9660, 0.1914],\n",
    "        [0.5666, 0.8041, 0.9830, 0.0220]])\n",
    "\n",
    "print(logits)\n",
    "labels = torch.tensor([[1, 0], [1, 0], [0, 1]]).view(-1)\n",
    "print(labels)\n",
    "loss = fn(logits, labels)\n",
    "print(f'损失函数计算的loss {loss}')\n",
    "loss_2 = -torch.nn.functional.log_softmax(logits, dim=-1).gather(1, labels.unsqueeze(-1)).squeeze(1)\n",
    "print(f'每个位置的loss {loss_2}')  # 每个位置的loss\n",
    "print(f'平均loss {loss_2.mean()}')"
   ]
  },
  {
   "cell_type": "code",
   "execution_count": null,
   "metadata": {},
   "outputs": [],
   "source": []
  }
 ],
 "metadata": {
  "kernelspec": {
   "display_name": "Python 3.6.9 64-bit ('python36': conda)",
   "language": "python",
   "name": "python36964bitpython36condafd83865620ca4220993ff7d88daf9be5"
  },
  "language_info": {
   "codemirror_mode": {
    "name": "ipython",
    "version": 3
   },
   "file_extension": ".py",
   "mimetype": "text/x-python",
   "name": "python",
   "nbconvert_exporter": "python",
   "pygments_lexer": "ipython3",
   "version": "3.6.9"
  }
 },
 "nbformat": 4,
 "nbformat_minor": 2
}
