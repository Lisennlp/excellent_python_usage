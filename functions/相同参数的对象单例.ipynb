{
 "cells": [
  {
   "cell_type": "code",
   "execution_count": 1,
   "metadata": {},
   "outputs": [],
   "source": [
    "# The class in question\n",
    "class Spam:\n",
    "    def __init__(self, name):\n",
    "        self.name = name\n",
    "# Caching support\n",
    "import weakref\n",
    "_spam_cache = weakref.WeakValueDictionary() \n",
    "def get_spam(name):\n",
    "    if name not in _spam_cache: \n",
    "        s = Spam(name)\n",
    "        _spam_cache[name] = s \n",
    "    else:\n",
    "        s = _spam_cache[name] \n",
    "    return s"
   ]
  },
  {
   "cell_type": "code",
   "execution_count": 2,
   "metadata": {},
   "outputs": [
    {
     "data": {
      "text/plain": [
       "False"
      ]
     },
     "execution_count": 2,
     "metadata": {},
     "output_type": "execute_result"
    }
   ],
   "source": [
    "a = get_spam('foo')\n",
    "b = get_spam('bar')\n",
    "a is b\n",
    "False\n"
   ]
  },
  {
   "cell_type": "code",
   "execution_count": 3,
   "metadata": {},
   "outputs": [
    {
     "data": {
      "text/plain": [
       "True"
      ]
     },
     "execution_count": 3,
     "metadata": {},
     "output_type": "execute_result"
    }
   ],
   "source": [
    "c = get_spam('foo')\n",
    "a is c"
   ]
  },
  {
   "cell_type": "markdown",
   "metadata": {},
   "source": [
    "## 更高级的用法"
   ]
  },
  {
   "cell_type": "code",
   "execution_count": 22,
   "metadata": {},
   "outputs": [],
   "source": [
    "import weakref\n",
    "class Cached(type):\n",
    "    def __init__(self, *args, **kwargs):\n",
    "        super().__init__(*args, **kwargs)\n",
    "        self.__cache = weakref.WeakValueDictionary()\n",
    "        \n",
    "    def __call__(self, *args): \n",
    "        print(self.__name__)\n",
    "        print(f'*args {args}')\n",
    "        if args in self.__cache:\n",
    "            return self.__cache[args] \n",
    "        else:\n",
    "            obj = super().__call__(*args) \n",
    "            self.__cache[args] = obj \n",
    "        return obj\n",
    "# Example\n",
    "class Spam(metaclass=Cached): \n",
    "    def __init__(self, name):\n",
    "        print('Creating Spam({!r})'.format(name)) \n",
    "        self.name = name\n",
    "    def __call__(self, *args): \n",
    "        print('==')"
   ]
  },
  {
   "cell_type": "code",
   "execution_count": 25,
   "metadata": {},
   "outputs": [
    {
     "name": "stdout",
     "output_type": "stream",
     "text": [
      "Spam\n",
      "*args ('Guido',)\n",
      "Spam\n",
      "*args ('Diana',)\n",
      "Spam\n",
      "*args ('Guido',)\n"
     ]
    },
    {
     "data": {
      "text/plain": [
       "False"
      ]
     },
     "execution_count": 25,
     "metadata": {},
     "output_type": "execute_result"
    }
   ],
   "source": [
    "a = Spam('Guido')\n",
    "b = Spam('Diana')\n",
    "c = Spam('Guido') # Cached >>> \n",
    "a is b\n",
    " "
   ]
  },
  {
   "cell_type": "code",
   "execution_count": 8,
   "metadata": {},
   "outputs": [
    {
     "data": {
      "text/plain": [
       "True"
      ]
     },
     "execution_count": 8,
     "metadata": {},
     "output_type": "execute_result"
    }
   ],
   "source": [
    "a is c"
   ]
  },
  {
   "cell_type": "code",
   "execution_count": 19,
   "metadata": {},
   "outputs": [],
   "source": [
    "class test():\n",
    "    def __init__(self, name):\n",
    "        self.name = name\n",
    "    def __call__(self):\n",
    "        print('==')\n",
    "a = test('a')"
   ]
  }
 ],
 "metadata": {
  "kernelspec": {
   "display_name": "Python 3.6.9 64-bit ('python36': conda)",
   "language": "python",
   "name": "python36964bitpython36condafd83865620ca4220993ff7d88daf9be5"
  },
  "language_info": {
   "codemirror_mode": {
    "name": "ipython",
    "version": 3
   },
   "file_extension": ".py",
   "mimetype": "text/x-python",
   "name": "python",
   "nbconvert_exporter": "python",
   "pygments_lexer": "ipython3",
   "version": "3.6.9"
  }
 },
 "nbformat": 4,
 "nbformat_minor": 2
}
