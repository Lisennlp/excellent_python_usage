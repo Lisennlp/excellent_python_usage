{
 "cells": [
  {
   "cell_type": "code",
   "execution_count": 6,
   "metadata": {},
   "outputs": [
    {
     "name": "stdout",
     "output_type": "stream",
     "text": [
      "res = 2\n",
      "res = 6\n",
      "res = 4\n",
      "res = 8\n"
     ]
    }
   ],
   "source": [
    "import logging\n",
    "from multiprocessing import Pool \n",
    "# from functools import partia\n",
    "\n",
    "def output_result(result, log=None): \n",
    "    if log is not None:\n",
    "        log.debug('Got: %r', result)\n",
    "# A sample function\n",
    "def add(x, y): \n",
    "    print(f'res = {x + y}')\n",
    "    return x + y\n",
    "if __name__ == '__main__': \n",
    "    \n",
    "    logging.basicConfig(level=logging.DEBUG)\n",
    "    log = logging.getLogger('test')\n",
    "    p = Pool(4)\n",
    "    for i in range(4):\n",
    "        p.apply_async(add, (i, i), callback=output_result)\n",
    "    a = p.apply_async(add, (1, 1))\n",
    "    b = p.apply_async(add, (2, 2))\n",
    "    c = p.apply_async(add, (3, 3))\n",
    "    d = p.apply_async(add, (4, 4))\n",
    "    \n",
    "    \n",
    "    p.close()\n",
    "    p.join()"
   ]
  },
  {
   "cell_type": "code",
   "execution_count": 33,
   "metadata": {},
   "outputs": [
    {
     "name": "stdout",
     "output_type": "stream",
     "text": [
      "res = 0\n",
      "res = 2\n",
      "res = 4\n",
      "res = 6\n",
      "0\n",
      "2\n",
      "4\n",
      "6\n"
     ]
    }
   ],
   "source": [
    "import logging\n",
    "from multiprocessing import Pool \n",
    "# from functools import partia\n",
    "\n",
    "def output_result(result, log=None): \n",
    "    if log is not None:\n",
    "        log.debug('Got: %r', result)\n",
    "# A sample function\n",
    "def add(x, y): \n",
    "    print(f'res = {x + y}')\n",
    "    return x + y\n",
    "if __name__ == '__main__': \n",
    "    \n",
    "    logging.basicConfig(level=logging.DEBUG)\n",
    "    log = logging.getLogger('test')\n",
    "    p = Pool(4)\n",
    "    results = []\n",
    "    for i in range(4):\n",
    "        res = p.apply_async(add, (i, i))\n",
    "        results.append(res)\n",
    "   \n",
    "    p.close()\n",
    "    p.join()\n",
    "    for r in results:\n",
    "        print(r.get())"
   ]
  },
  {
   "cell_type": "code",
   "execution_count": null,
   "metadata": {},
   "outputs": [],
   "source": []
  },
  {
   "cell_type": "code",
   "execution_count": null,
   "metadata": {},
   "outputs": [],
   "source": []
  }
 ],
 "metadata": {
  "kernelspec": {
   "display_name": "Python 3",
   "language": "python",
   "name": "python3"
  },
  "language_info": {
   "codemirror_mode": {
    "name": "ipython",
    "version": 3
   },
   "file_extension": ".py",
   "mimetype": "text/x-python",
   "name": "python",
   "nbconvert_exporter": "python",
   "pygments_lexer": "ipython3",
   "version": "3.6.9"
  }
 },
 "nbformat": 4,
 "nbformat_minor": 2
}
