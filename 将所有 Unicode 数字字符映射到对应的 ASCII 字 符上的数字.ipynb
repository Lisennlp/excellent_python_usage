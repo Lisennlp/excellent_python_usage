{
 "cells": [
  {
   "cell_type": "code",
   "execution_count": 2,
   "metadata": {},
   "outputs": [
    {
     "name": "stdout",
     "output_type": "stream",
     "text": [
      "580\n",
      "123wos我\n"
     ]
    }
   ],
   "source": [
    "import sys\n",
    "import unicodedata\n",
    "\n",
    "digitmap = { c: ord('0') + unicodedata.digit(chr(c))\n",
    "for c in range(sys.maxunicode) if unicodedata.category(chr(c)) == 'Nd' }\n",
    "print(len(digitmap))\n",
    "460\n",
    "# Arabic digits\n",
    "x = '\\u0661\\u0662\\u0663wos我'\n",
    "res = x.translate(digitmap)\n",
    "print(res)"
   ]
  }
 ],
 "metadata": {
  "kernelspec": {
   "display_name": "Python 3",
   "language": "python",
   "name": "python3"
  },
  "language_info": {
   "codemirror_mode": {
    "name": "ipython",
    "version": 3
   },
   "file_extension": ".py",
   "mimetype": "text/x-python",
   "name": "python",
   "nbconvert_exporter": "python",
   "pygments_lexer": "ipython3",
   "version": "3.6.9"
  }
 },
 "nbformat": 4,
 "nbformat_minor": 2
}
