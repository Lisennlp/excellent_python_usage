{
 "cells": [
  {
   "cell_type": "markdown",
   "metadata": {},
   "source": [
    "## https://blog.csdn.net/qq_42992919/article/details/96853163\n",
    "\n",
    "事实上，实例属性的查找顺序并没有改变，依然是实例的dict中的属性优先被访问；\n",
    "只是如果实例有属性是数据描述器的话，属性会被dict字典移除，因此就会访问类的属性，造成了数据描 述器优先访问的假象；"
   ]
  },
  {
   "cell_type": "code",
   "execution_count": 1,
   "metadata": {},
   "outputs": [],
   "source": [
    "class Integer:\n",
    "    def __init__(self, name):\n",
    "        print('int')\n",
    "        self.name = name\n",
    "    def __get__(self, instance, cls): \n",
    "        print(f'get')\n",
    "        if instance is None:\n",
    "            return self \n",
    "        else:\n",
    "            return instance.__dict__[self.name]\n",
    "    def __set__(self, instance, value): \n",
    "        print(f'set')   \n",
    "        if not isinstance(value, int):\n",
    "            raise TypeError('Expected an int') \n",
    "        instance.__dict__[self.name] = value\n",
    "    def __delete__(self, instance):\n",
    "        del instance.__dict__[self.name]"
   ]
  },
  {
   "cell_type": "code",
   "execution_count": 3,
   "metadata": {},
   "outputs": [
    {
     "name": "stdout",
     "output_type": "stream",
     "text": [
      "001\n",
      "int\n",
      "int\n"
     ]
    }
   ],
   "source": [
    "class Point:\n",
    "    print('001')\n",
    "    \n",
    "    x = Integer('x') \n",
    "    y = Integer('y')\n",
    "    def __init__(self, x, y): \n",
    "        print('111')\n",
    "        self.x = x\n",
    "        print('222')\n",
    "        \n",
    "        self.y = y"
   ]
  },
  {
   "cell_type": "code",
   "execution_count": 4,
   "metadata": {},
   "outputs": [
    {
     "name": "stdout",
     "output_type": "stream",
     "text": [
      "111\n",
      "set\n",
      "222\n",
      "set\n"
     ]
    }
   ],
   "source": [
    "p = Point(4, 4)"
   ]
  },
  {
   "cell_type": "code",
   "execution_count": 5,
   "metadata": {},
   "outputs": [
    {
     "name": "stdout",
     "output_type": "stream",
     "text": [
      "get\n"
     ]
    },
    {
     "data": {
      "text/plain": [
       "4"
      ]
     },
     "execution_count": 5,
     "metadata": {},
     "output_type": "execute_result"
    }
   ],
   "source": [
    "p.x"
   ]
  }
 ],
 "metadata": {
  "kernelspec": {
   "display_name": "Python 3",
   "language": "python",
   "name": "python3"
  },
  "language_info": {
   "codemirror_mode": {
    "name": "ipython",
    "version": 3
   },
   "file_extension": ".py",
   "mimetype": "text/x-python",
   "name": "python",
   "nbconvert_exporter": "python",
   "pygments_lexer": "ipython3",
   "version": "3.6.9"
  }
 },
 "nbformat": 4,
 "nbformat_minor": 2
}
