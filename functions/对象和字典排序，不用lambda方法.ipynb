{
 "cells": [
  {
   "cell_type": "code",
   "execution_count": 1,
   "metadata": {},
   "outputs": [
    {
     "name": "stdout",
     "output_type": "stream",
     "text": [
      "lisen1\n",
      "jack1\n"
     ]
    }
   ],
   "source": [
    "import operator\n",
    "dic0 = {'name': 'jack0', 'age': 20}\n",
    "dic1 = {'name': 'jack1', 'age': 21}\n",
    "dic = [dic0, dic1]\n",
    "class FuncTest():\n",
    "    def __init__(self,a, b):\n",
    "        self.name = a\n",
    "        self.age = b\n",
    "x0 = FuncTest('lisen0', 27)\n",
    "x1 = FuncTest('lisen1', 28)\n",
    "x = [x0, x1]\n",
    "s_x = sorted(x, key=operator.attrgetter('age'), reverse=True)\n",
    "s_dic = sorted(dic, key=operator.itemgetter('age'), reverse=True)\n",
    "\n",
    "\n",
    "print(s_x[0].name)\n",
    "print(s_dic[0][\"name\"]) "
   ]
  }
 ],
 "metadata": {
  "kernelspec": {
   "display_name": "Python 3",
   "language": "python",
   "name": "python3"
  },
  "language_info": {
   "codemirror_mode": {
    "name": "ipython",
    "version": 3
   },
   "file_extension": ".py",
   "mimetype": "text/x-python",
   "name": "python",
   "nbconvert_exporter": "python",
   "pygments_lexer": "ipython3",
   "version": "3.6.9"
  }
 },
 "nbformat": 4,
 "nbformat_minor": 2
}
