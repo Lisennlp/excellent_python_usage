{
 "cells": [
  {
   "cell_type": "markdown",
   "metadata": {},
   "source": [
    "#### collections.defaultdict\n",
    "使用工厂方法default_factory给所有key对应的value赋初始值，这些工厂方法有int(), long(), float(), complex()，str(), unicode(), basestring()，list(), tuple()，dict()，bool(),set(), frozenset()，object()， classmethod(),staticmethod()，super()，property()，file()"
   ]
  },
  {
   "cell_type": "code",
   "execution_count": 2,
   "metadata": {},
   "outputs": [
    {
     "data": {
      "text/plain": [
       "[('yellow', [1, 3]), ('blue', [2, 4]), ('red', [1])]"
      ]
     },
     "execution_count": 2,
     "metadata": {},
     "output_type": "execute_result"
    }
   ],
   "source": [
    "import collections\n",
    "s = [('yellow', 1), ('blue', 2), ('yellow', 3), ('blue', 4), ('red', 1)]\n",
    "d = collections.defaultdict(list)\n",
    "for k, v in s:\n",
    "    d[k].append(v)\n",
    "list(d.items())"
   ]
  },
  {
   "cell_type": "code",
   "execution_count": 6,
   "metadata": {},
   "outputs": [
    {
     "data": {
      "text/plain": [
       "[('yellow', 4), ('blue', 6), ('red', 1)]"
      ]
     },
     "execution_count": 6,
     "metadata": {},
     "output_type": "execute_result"
    }
   ],
   "source": [
    "import collections\n",
    "s = [('yellow', 1), ('blue', 2), ('yellow', 3), ('blue', 4), ('red', 1)]\n",
    "d = collections.defaultdict(int)\n",
    "for k, v in s:\n",
    "    d[k] += v\n",
    "list(d.items())"
   ]
  },
  {
   "cell_type": "code",
   "execution_count": 9,
   "metadata": {},
   "outputs": [
    {
     "name": "stdout",
     "output_type": "stream",
     "text": [
      "defaultdict(<function <lambda> at 0x111376f28>, {'a': 18, 'b': 19, 'c': 12})\n"
     ]
    }
   ],
   "source": [
    "import collections\n",
    "d = collections.defaultdict(lambda :10) # 设定初始值\n",
    "a = [('a', 1), ('b', 3), ('c', 2), ('b', 6), ('a', 7)]\n",
    "for k, v in a:\n",
    "    d[k] += v\n",
    "print(d)"
   ]
  }
 ],
 "metadata": {
  "kernelspec": {
   "display_name": "Python 3",
   "language": "python",
   "name": "python3"
  },
  "language_info": {
   "codemirror_mode": {
    "name": "ipython",
    "version": 3
   },
   "file_extension": ".py",
   "mimetype": "text/x-python",
   "name": "python",
   "nbconvert_exporter": "python",
   "pygments_lexer": "ipython3",
   "version": "3.6.9"
  }
 },
 "nbformat": 4,
 "nbformat_minor": 2
}
