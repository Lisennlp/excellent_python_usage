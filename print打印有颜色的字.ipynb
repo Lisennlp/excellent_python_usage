{
 "cells": [
  {
   "cell_type": "code",
   "execution_count": 1,
   "metadata": {},
   "outputs": [
    {
     "name": "stdout",
     "output_type": "stream",
     "text": [
      "This is a \u001b[1;30;35m test \u001b[0m!\n",
      "This is a \u001b[1;32;43m test \u001b[0m!\n",
      "\u001b[1;33;44mThis is a test !\u001b[0m\n"
     ]
    }
   ],
   "source": [
    "print('This is a \\033[1;30;35m test \\033[0m!')\n",
    "print('This is a \\033[1;32;43m test \\033[0m!')\n",
    "print('\\033[1;33;44mThis is a test !\\033[0m')"
   ]
  },
  {
   "cell_type": "code",
   "execution_count": null,
   "metadata": {},
   "outputs": [],
   "source": []
  }
 ],
 "metadata": {
  "kernelspec": {
   "display_name": "Python 3.6.9 64-bit ('python36': conda)",
   "language": "python",
   "name": "python36964bitpython36condafd83865620ca4220993ff7d88daf9be5"
  },
  "language_info": {
   "codemirror_mode": {
    "name": "ipython",
    "version": 3
   },
   "file_extension": ".py",
   "mimetype": "text/x-python",
   "name": "python",
   "nbconvert_exporter": "python",
   "pygments_lexer": "ipython3",
   "version": "3.6.9"
  }
 },
 "nbformat": 4,
 "nbformat_minor": 2
}
