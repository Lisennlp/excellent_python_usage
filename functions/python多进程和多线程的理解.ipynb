{
 "cells": [
  {
   "cell_type": "code",
   "execution_count": null,
   "metadata": {},
   "outputs": [],
   "source": [
    "## https://zhuanlan.zhihu.com/p/46368084"
   ]
  },
  {
   "cell_type": "code",
   "execution_count": 1,
   "metadata": {},
   "outputs": [
    {
     "name": "stdout",
     "output_type": "stream",
     "text": [
      "当前母进程: 67507\n",
      "当前进程: 67507\n",
      "结果: 1152921504606846976\n",
      "当前进程: 67507\n",
      "结果: 1152921504606846976\n",
      "用时4.004901885986328秒\n"
     ]
    }
   ],
   "source": [
    "import time\n",
    "import os\n",
    "\n",
    "def long_time_task():\n",
    "    print('当前进程: {}'.format(os.getpid()))\n",
    "    time.sleep(2)\n",
    "    print(\"结果: {}\".format(8 ** 20))\n",
    "\n",
    "if __name__ == \"__main__\":\n",
    "    print('当前母进程: {}'.format(os.getpid()))\n",
    "    start = time.time()\n",
    "    for i in range(2):\n",
    "        long_time_task()\n",
    "\n",
    "    end = time.time()\n",
    "    print(\"用时{}秒\".format((end-start)))"
   ]
  },
  {
   "cell_type": "code",
   "execution_count": 2,
   "metadata": {},
   "outputs": [
    {
     "name": "stdout",
     "output_type": "stream",
     "text": [
      "当前母进程: 67507\n",
      "等待所有子进程完成。\n",
      "子进程: 67533 - 任务1\n",
      "子进程: 67534 - 任务2\n",
      "结果: 1152921504606846976\n",
      "结果: 1152921504606846976\n",
      "总共用时2.0326759815216064秒\n"
     ]
    }
   ],
   "source": [
    "from multiprocessing import Process\n",
    "import os\n",
    "import time\n",
    "\n",
    "\n",
    "def long_time_task(i):\n",
    "    print('子进程: {} - 任务{}'.format(os.getpid(), i))\n",
    "    time.sleep(2)\n",
    "    print(\"结果: {}\".format(8 ** 20))\n",
    "\n",
    "\n",
    "if __name__=='__main__':\n",
    "    print('当前母进程: {}'.format(os.getpid()))\n",
    "    start = time.time()\n",
    "    p1 = Process(target=long_time_task, args=(1,))\n",
    "    p2 = Process(target=long_time_task, args=(2,))\n",
    "    print('等待所有子进程完成。')\n",
    "    p1.start()\n",
    "    p2.start()\n",
    "    p1.join()\n",
    "    p2.join()\n",
    "    end = time.time()\n",
    "    print(\"总共用时{}秒\".format((end - start)))"
   ]
  },
  {
   "cell_type": "code",
   "execution_count": 4,
   "metadata": {},
   "outputs": [
    {
     "name": "stdout",
     "output_type": "stream",
     "text": [
      "这是主线程：MainThread\n",
      "当子线程: Thread-9\n",
      "当子线程: Thread-10当子线程: Thread-11\n",
      "\n",
      "当子线程: Thread-12\n",
      "当子线程: Thread-13\n",
      "\n",
      "总共用时0.00394892692565918秒\n",
      "结果: 1152921504606846976结果: 1152921504606846976结果: 1152921504606846976结果: 1152921504606846976\n",
      "\n",
      "\n",
      "\n",
      "结果: 1152921504606846976\n"
     ]
    }
   ],
   "source": [
    "import threading\n",
    "import time\n",
    "\n",
    "\n",
    "def long_time_task():\n",
    "    print('当子线程: {}'.format(threading.current_thread().name))\n",
    "    time.sleep(2)\n",
    "    print(\"结果: {}\".format(8 ** 20))\n",
    "\n",
    "\n",
    "if __name__=='__main__':\n",
    "    start = time.time()\n",
    "    print('这是主线程：{}'.format(threading.current_thread().name))\n",
    "    for i in range(5):\n",
    "        t = threading.Thread(target=long_time_task, args=())\n",
    "        t.setDaemon(True)\n",
    "        t.start()\n",
    "\n",
    "    end = time.time()\n",
    "    print(\"\\n总共用时{}秒\".format((end - start)))"
   ]
  },
  {
   "cell_type": "code",
   "execution_count": null,
   "metadata": {},
   "outputs": [],
   "source": []
  },
  {
   "cell_type": "code",
   "execution_count": 11,
   "metadata": {},
   "outputs": [
    {
     "name": "stdout",
     "output_type": "stream",
     "text": [
      "===\n"
     ]
    }
   ],
   "source": [
    "import threading\n",
    "\n",
    "\n",
    "class lsp(threading.Thread):\n",
    "    def __init__(self, name='', ):\n",
    "        threading.Thread.__init__(self)\n",
    "        \n",
    "    def run(self):\n",
    "        print(f'===')\n",
    "        \n",
    "a = lsp()\n",
    "a.start()"
   ]
  },
  {
   "cell_type": "code",
   "execution_count": 10,
   "metadata": {},
   "outputs": [
    {
     "name": "stdout",
     "output_type": "stream",
     "text": [
      "开始子进程1\n",
      "开始子进程2\n",
      "结果: 1152921504606846976结果: 1152921504606846976\n",
      "结束子进程1\n",
      "\n",
      "结束子进程2\n",
      "总共用时2.0058608055114746秒\n"
     ]
    }
   ],
   "source": [
    "#-*- encoding:utf-8 -*-\n",
    "import threading\n",
    "import time\n",
    "\n",
    "\n",
    "def long_time_task(i):\n",
    "    time.sleep(2)\n",
    "    return 8**20\n",
    "\n",
    "\n",
    "class MyThread(threading.Thread):\n",
    "    def __init__(self, func, args , name='', ):\n",
    "        threading.Thread.__init__(self)\n",
    "        self.func = func\n",
    "        self.args = args\n",
    "        self.name = name\n",
    "        self.result = None\n",
    "\n",
    "    def run(self):\n",
    "        print('开始子进程{}'.format(self.name))\n",
    "        self.result = self.func(self.args[0],)\n",
    "        print(\"结果: {}\".format(self.result))\n",
    "        print('结束子进程{}'.format(self.name))\n",
    "\n",
    "\n",
    "if __name__=='__main__':\n",
    "    start = time.time()\n",
    "    threads = []\n",
    "    for i in range(1, 3):\n",
    "        t = MyThread(long_time_task, (i,), str(i))\n",
    "        threads.append(t)\n",
    "\n",
    "    for t in threads:\n",
    "        t.start()\n",
    "    for t in threads:\n",
    "        t.join()\n",
    "\n",
    "    end = time.time()\n",
    "    print(\"总共用时{}秒\".format((end - start)))"
   ]
  },
  {
   "cell_type": "code",
   "execution_count": null,
   "metadata": {},
   "outputs": [],
   "source": []
  },
  {
   "cell_type": "code",
   "execution_count": null,
   "metadata": {},
   "outputs": [],
   "source": []
  },
  {
   "cell_type": "code",
   "execution_count": null,
   "metadata": {},
   "outputs": [],
   "source": []
  }
 ],
 "metadata": {
  "kernelspec": {
   "display_name": "Python 3",
   "language": "python",
   "name": "python3"
  },
  "language_info": {
   "codemirror_mode": {
    "name": "ipython",
    "version": 3
   },
   "file_extension": ".py",
   "mimetype": "text/x-python",
   "name": "python",
   "nbconvert_exporter": "python",
   "pygments_lexer": "ipython3",
   "version": "3.6.9"
  }
 },
 "nbformat": 4,
 "nbformat_minor": 2
}
