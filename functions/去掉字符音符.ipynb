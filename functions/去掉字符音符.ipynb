{
 "cells": [
  {
   "cell_type": "markdown",
   "metadata": {},
   "source": [
    "#### 这里的标准化操作将原来的文本分解为单独的和音符。接下来的 ASCII 编码/解码 只是简单的一下子丢弃掉那些字符。当然，这种方法仅仅只在最后的目标就是获取到文 本对应 ACSII 表示的时候生效。\n"
   ]
  },
  {
   "cell_type": "code",
   "execution_count": 1,
   "metadata": {},
   "outputs": [
    {
     "data": {
      "text/plain": [
       "'python is awesome\\n'"
      ]
     },
     "execution_count": 1,
     "metadata": {},
     "output_type": "execute_result"
    }
   ],
   "source": [
    "import unicodedata\n",
    "a = 'pýtĥöñ is awesome\\n'\n",
    "b = unicodedata.normalize('NFD', a)\n",
    "res = b.encode('ascii', 'ignore').decode('ascii')\n",
    "res"
   ]
  }
 ],
 "metadata": {
  "kernelspec": {
   "display_name": "Python 3",
   "language": "python",
   "name": "python3"
  },
  "language_info": {
   "codemirror_mode": {
    "name": "ipython",
    "version": 3
   },
   "file_extension": ".py",
   "mimetype": "text/x-python",
   "name": "python",
   "nbconvert_exporter": "python",
   "pygments_lexer": "ipython3",
   "version": "3.6.9"
  }
 },
 "nbformat": 4,
 "nbformat_minor": 2
}
