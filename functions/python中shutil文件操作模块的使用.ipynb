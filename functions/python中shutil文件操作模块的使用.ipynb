{
 "cells": [
  {
   "cell_type": "markdown",
   "metadata": {},
   "source": [
    "## shutil\n",
    "是一种高层次的文件操作工具\n",
    "类似于高级API，而且主要强大之处在于其对文件的复制与删除操作更是比较支持好。\n",
    "\n",
    "使用方法\n",
    "copyfile( src, dst) 从源src复制到dst中去。当然前提是目标地址是具备可写权限。抛出的异常信息为IOException. 如果当前的dst已存在的话就会被覆盖掉\n",
    "\n",
    "copymode( src, dst) 只是会复制其权限其他的东西是不会被复制的\n",
    "\n",
    "copystat( src, dst) 复制权限、最后访问时间、最后修改时间\n",
    "\n",
    "copy( src, dst) 复制一个文件到一个文件或一个目录\n",
    "\n",
    "copy2( src, dst) 在copy上的基础上再复制文件最后访问时间与修改时间也复制过来了，类似于cp –p的东西\n",
    "\n",
    "copy2( src, dst) 如果两个位置的文件系统是一样的话相当于是rename操作，只是改名；如果是不在相同的文件系统的话就是做move操作\n",
    "\n",
    "copytree(olddir,newdir,True/Flase) 把olddir拷贝一份newdir，如果第3个参数是True，则复制目录时将保持文件夹下的符号连接，如果第3个参数是False，则将在复制的目录下生成物理副本来替代符号连接\n",
    "\n",
    "shutil.copyfileobj(fsrc, fdst[, length])\n",
    "将文件内容拷贝到另一个文件中\n",
    "\n"
   ]
  },
  {
   "cell_type": "code",
   "execution_count": null,
   "metadata": {},
   "outputs": [],
   "source": [
    "import shutil\n",
    "\n",
    "# 将文件内容拷贝到另一个文件中\n",
    "shutil.copyfileobj(open('old.txt', 'r'), open('new.txt', 'w'))\n",
    "\n",
    "# 拷贝文件\n",
    "shutil.copyfile('old.txt', 'old1.txt')\n",
    "\n",
    "# 仅拷贝权限。内容、组、用户均不变\n",
    "shutil.copymode('old.txt', 'old1.txt')\n",
    "\n",
    "# 复制权限、最后访问时间、最后修改时间\n",
    "shutil.copystat('old.txt', 'old1.txt')\n",
    "\n",
    "# 复制一个文件到一个文件或一个目录\n",
    "shutil.copy('old.txt', 'old2.txt')\n",
    "\n",
    "# 在copy上的基础上再复制文件最后访问时间与修改时间也复制过来了\n",
    "shutil.copy2('old.txt', 'old2.txt')\n",
    "\n",
    "# 把olddir拷贝一份newdir，如果第3个参数是True，则复制目录时将保持文件夹下的符号连接，如果第3个参数是False，则将在复制的目录下生成物理副本来替代符号连接\n",
    "shutil.copytree('C:/Users/xiaoxinsoso/Desktop/aaa', 'C:/Users/xiaoxinsoso/Desktop/bbb')\n",
    "\n",
    "# 移动目录或文件\n",
    "shutil.move('C:/Users/xiaoxinsoso/Desktop/aaa', 'C:/Users/xiaoxinsoso/Desktop/bbb') # 把aaa目录移动到bbb目录下\n",
    "\n",
    "# 删除一个目录\n",
    "shutil.rmtree('C:/Users/xiaoxinsoso/Desktop/bbb') # 删除bbb目录\n"
   ]
  }
 ],
 "metadata": {
  "kernelspec": {
   "display_name": "Python 3.6.9 64-bit ('python36': conda)",
   "language": "python",
   "name": "python36964bitpython36condafd83865620ca4220993ff7d88daf9be5"
  },
  "language_info": {
   "codemirror_mode": {
    "name": "ipython",
    "version": 3
   },
   "file_extension": ".py",
   "mimetype": "text/x-python",
   "name": "python",
   "nbconvert_exporter": "python",
   "pygments_lexer": "ipython3",
   "version": "3.6.9"
  }
 },
 "nbformat": 4,
 "nbformat_minor": 2
}
