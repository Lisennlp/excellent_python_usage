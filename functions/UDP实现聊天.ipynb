{
 "cells": [
  {
   "cell_type": "code",
   "execution_count": null,
   "metadata": {},
   "outputs": [],
   "source": [
    "## 将下面的代码分别放到两个jupyter或者py中，A先发送，然后B回复"
   ]
  },
  {
   "cell_type": "code",
   "execution_count": null,
   "metadata": {},
   "outputs": [],
   "source": [
    "# A\n",
    "import socket\n",
    "\n",
    "s = socket.socket(socket.AF_INET, socket.SOCK_DGRAM)\n",
    "addr = ('127.0.0.1', 9994)\n",
    "s.bind(addr)\n",
    "print('UDP Server on %s:%s...', addr[0], addr[1])\n",
    "while True:\n",
    "    try:\n",
    "        address = ('127.0.0.1', int(9998))\n",
    "        sent_data = input('请输入你要发送的内容:')\n",
    "        s.sendto(sent_data.encode('utf-8'), address)\n",
    "        while True:\n",
    "            data, addr = s.recvfrom(1024)\n",
    "            print(f'接受到{address}内容: {data.decode(\"utf-8\")}')\n",
    "            if data:\n",
    "                break\n",
    "    except ConnectionResetError:\n",
    "        logging.warning('Someone left unexcept.')"
   ]
  },
  {
   "cell_type": "code",
   "execution_count": null,
   "metadata": {},
   "outputs": [],
   "source": [
    "# B\n",
    "import socket\n",
    "\n",
    "s = socket.socket(socket.AF_INET, socket.SOCK_DGRAM)\n",
    "addr = ('127.0.0.1', 9998)\n",
    "s.bind(addr)\n",
    "print('UDP Server on %s:%s...', addr[0], addr[1])\n",
    "while True:\n",
    "    try:\n",
    "        data, address = s.recvfrom(1024)\n",
    "        print(f'接受到{address}内容: {data.decode(\"utf-8\")}')\n",
    "        if data:\n",
    "            sent_data = input('请输入你要发送的内容:')\n",
    "            s.sendto(sent_data.encode('utf-8'), address)\n",
    "        \n",
    "    except ConnectionResetError:\n",
    "        logging.warning('Someone left unexcept.')"
   ]
  }
 ],
 "metadata": {
  "kernelspec": {
   "display_name": "Python 3.6.9 64-bit ('python36': conda)",
   "language": "python",
   "name": "python36964bitpython36condafd83865620ca4220993ff7d88daf9be5"
  },
  "language_info": {
   "codemirror_mode": {
    "name": "ipython",
    "version": 3
   },
   "file_extension": ".py",
   "mimetype": "text/x-python",
   "name": "python",
   "nbconvert_exporter": "python",
   "pygments_lexer": "ipython3",
   "version": "3.6.9"
  }
 },
 "nbformat": 4,
 "nbformat_minor": 2
}
